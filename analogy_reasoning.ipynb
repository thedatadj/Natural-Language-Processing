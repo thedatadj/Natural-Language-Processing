{
  "nbformat": 4,
  "nbformat_minor": 0,
  "metadata": {
    "colab": {
      "provenance": [],
      "authorship_tag": "ABX9TyNbSFwMpJEK00+JflIiX0Fj",
      "include_colab_link": true
    },
    "kernelspec": {
      "name": "python3",
      "display_name": "Python 3"
    },
    "language_info": {
      "name": "python"
    }
  },
  "cells": [
    {
      "cell_type": "markdown",
      "metadata": {
        "id": "view-in-github",
        "colab_type": "text"
      },
      "source": [
        "<a href=\"https://colab.research.google.com/github/thedatadj/natural-language-processing/blob/main/analogy_reasoning.ipynb\" target=\"_parent\"><img src=\"https://colab.research.google.com/assets/colab-badge.svg\" alt=\"Open In Colab\"/></a>"
      ]
    },
    {
      "cell_type": "markdown",
      "source": [
        "* This program takes as an input three words.\n",
        "* The first two are related to each other.\n",
        "* The program will predict a 4th word which is related to the third word in a similar way as the two first words are related to each other.\n",
        "* Example, \"Athens is to Greece as Bangkok is to ___\"?\n",
        "* This program will be capable of finding the 4th word."
      ],
      "metadata": {
        "id": "lZ0mqmsX_KPY"
      }
    },
    {
      "cell_type": "markdown",
      "source": [
        "# Cosine Similarity\n",
        "For this task I need to calculate the cosine of the angle between the vector representations of the words.\n",
        "\n",
        "The similarity of two vectors depends of the output of the cosine similarity function:\n",
        "* Numbers between  0 and 1 indicate a similarity score.\n",
        "* Numbers between -1 and 0 indicate a dissimilarity score."
      ],
      "metadata": {
        "id": "FVlLFtIMAQCz"
      }
    },
    {
      "cell_type": "code",
      "source": [
        "import numpy as np"
      ],
      "metadata": {
        "id": "Tmi-7IvnBZmf"
      },
      "execution_count": 2,
      "outputs": []
    },
    {
      "cell_type": "code",
      "execution_count": 1,
      "metadata": {
        "id": "DBxPd5Dx8wDF"
      },
      "outputs": [],
      "source": [
        "def cosine(a, b):\n",
        "    dot = a.dot(b)\n",
        "    norma = np.linalg.norm(a)\n",
        "    normb = np.linalg.norm(b)\n",
        "    cos = dot/(norma*normb)\n",
        "    return cos"
      ]
    },
    {
      "cell_type": "markdown",
      "source": [
        "Example:\n",
        "\n",
        "The word embedding for the word \"king\" is this 300-dimensional vector."
      ],
      "metadata": {
        "id": "jWHCA_RcB9Lp"
      }
    },
    {
      "cell_type": "code",
      "source": [
        "king = np.array([\n",
        "        1.25976562e-01,  2.97851562e-02,  8.60595703e-03,  1.39648438e-01,\n",
        "       -2.56347656e-02, -3.61328125e-02,  1.11816406e-01, -1.98242188e-01,\n",
        "        5.12695312e-02,  3.63281250e-01, -2.42187500e-01, -3.02734375e-01,\n",
        "       -1.77734375e-01, -2.49023438e-02, -1.67968750e-01, -1.69921875e-01,\n",
        "        3.46679688e-02,  5.21850586e-03,  4.63867188e-02,  1.28906250e-01,\n",
        "        1.36718750e-01,  1.12792969e-01,  5.95703125e-02,  1.36718750e-01,\n",
        "        1.01074219e-01, -1.76757812e-01, -2.51953125e-01,  5.98144531e-02,\n",
        "        3.41796875e-01, -3.11279297e-02,  1.04492188e-01,  6.17675781e-02,\n",
        "        1.24511719e-01,  4.00390625e-01, -3.22265625e-01,  8.39843750e-02,\n",
        "        3.90625000e-02,  5.85937500e-03,  7.03125000e-02,  1.72851562e-01,\n",
        "        1.38671875e-01, -2.31445312e-01,  2.83203125e-01,  1.42578125e-01,\n",
        "        3.41796875e-01, -2.39257812e-02, -1.09863281e-01,  3.32031250e-02,\n",
        "       -5.46875000e-02,  1.53198242e-02, -1.62109375e-01,  1.58203125e-01,\n",
        "       -2.59765625e-01,  2.01416016e-02, -1.63085938e-01,  1.35803223e-03,\n",
        "       -1.44531250e-01, -5.68847656e-02,  4.29687500e-02, -2.46582031e-02,\n",
        "        1.85546875e-01,  4.47265625e-01,  9.58251953e-03,  1.31835938e-01,\n",
        "        9.86328125e-02, -1.85546875e-01, -1.00097656e-01, -1.33789062e-01,\n",
        "       -1.25000000e-01,  2.83203125e-01,  1.23046875e-01,  5.32226562e-02,\n",
        "       -1.77734375e-01,  8.59375000e-02, -2.18505859e-02,  2.05078125e-02,\n",
        "       -1.39648438e-01,  2.51464844e-02,  1.38671875e-01, -1.05468750e-01,\n",
        "        1.38671875e-01,  8.88671875e-02, -7.51953125e-02, -2.13623047e-02,\n",
        "        1.72851562e-01,  4.63867188e-02, -2.65625000e-01,  8.91113281e-03,\n",
        "        1.49414062e-01,  3.78417969e-02,  2.38281250e-01, -1.24511719e-01,\n",
        "       -2.17773438e-01, -1.81640625e-01,  2.97851562e-02,  5.71289062e-02,\n",
        "       -2.89306641e-02,  1.24511719e-02,  9.66796875e-02, -2.31445312e-01,\n",
        "        5.81054688e-02,  6.68945312e-02,  7.08007812e-02, -3.08593750e-01,\n",
        "       -2.14843750e-01,  1.45507812e-01, -4.27734375e-01, -9.39941406e-03,\n",
        "        1.54296875e-01, -7.66601562e-02,  2.89062500e-01,  2.77343750e-01,\n",
        "       -4.86373901e-04, -1.36718750e-01,  3.24218750e-01, -2.46093750e-01,\n",
        "       -3.03649902e-03, -2.11914062e-01,  1.25000000e-01,  2.69531250e-01,\n",
        "        2.04101562e-01,  8.25195312e-02, -2.01171875e-01, -1.60156250e-01,\n",
        "       -3.78417969e-02, -1.20117188e-01,  1.15234375e-01, -4.10156250e-02,\n",
        "       -3.95507812e-02, -8.98437500e-02,  6.34765625e-03,  2.03125000e-01,\n",
        "        1.86523438e-01,  2.73437500e-01,  6.29882812e-02,  1.41601562e-01,\n",
        "       -9.81445312e-02,  1.38671875e-01,  1.82617188e-01,  1.73828125e-01,\n",
        "        1.73828125e-01, -2.37304688e-01,  1.78710938e-01,  6.34765625e-02,\n",
        "        2.36328125e-01, -2.08984375e-01,  8.74023438e-02, -1.66015625e-01,\n",
        "       -7.91015625e-02,  2.43164062e-01, -8.88671875e-02,  1.26953125e-01,\n",
        "       -2.16796875e-01, -1.73828125e-01, -3.59375000e-01, -8.25195312e-02,\n",
        "       -6.49414062e-02,  5.07812500e-02,  1.35742188e-01, -7.47070312e-02,\n",
        "       -1.64062500e-01,  1.15356445e-02,  4.45312500e-01, -2.15820312e-01,\n",
        "       -1.11328125e-01, -1.92382812e-01,  1.70898438e-01, -1.25000000e-01,\n",
        "        2.65502930e-03,  1.92382812e-01, -1.74804688e-01,  1.39648438e-01,\n",
        "        2.92968750e-01,  1.13281250e-01,  5.95703125e-02, -6.39648438e-02,\n",
        "        9.96093750e-02, -2.72216797e-02,  1.96533203e-02,  4.27246094e-02,\n",
        "       -2.46093750e-01,  6.39648438e-02, -2.25585938e-01, -1.68945312e-01,\n",
        "        2.89916992e-03,  8.20312500e-02,  3.41796875e-01,  4.32128906e-02,\n",
        "        1.32812500e-01,  1.42578125e-01,  7.61718750e-02,  5.98144531e-02,\n",
        "       -1.19140625e-01,  2.74658203e-03, -6.29882812e-02, -2.72216797e-02,\n",
        "       -4.82177734e-03, -8.20312500e-02, -2.49023438e-02, -4.00390625e-01,\n",
        "       -1.06933594e-01,  4.24804688e-02,  7.76367188e-02, -1.16699219e-01,\n",
        "        7.37304688e-02, -9.22851562e-02,  1.07910156e-01,  1.58203125e-01,\n",
        "        4.24804688e-02,  1.26953125e-01,  3.61328125e-02,  2.67578125e-01,\n",
        "       -1.01074219e-01, -3.02734375e-01, -5.76171875e-02,  5.05371094e-02,\n",
        "        5.26428223e-04, -2.07031250e-01, -1.38671875e-01, -8.97216797e-03,\n",
        "       -2.78320312e-02, -1.41601562e-01,  2.07031250e-01, -1.58203125e-01,\n",
        "        1.27929688e-01,  1.49414062e-01, -2.24609375e-02, -8.44726562e-02,\n",
        "        1.22558594e-01,  2.15820312e-01, -2.13867188e-01, -3.12500000e-01,\n",
        "       -3.73046875e-01,  4.08935547e-03,  1.07421875e-01,  1.06933594e-01,\n",
        "        7.32421875e-02,  8.97216797e-03, -3.88183594e-02, -1.29882812e-01,\n",
        "        1.49414062e-01, -2.14843750e-01, -1.83868408e-03,  9.91210938e-02,\n",
        "        1.57226562e-01, -1.14257812e-01, -2.05078125e-01,  9.91210938e-02,\n",
        "        3.69140625e-01, -1.97265625e-01,  3.54003906e-02,  1.09375000e-01,\n",
        "        1.31835938e-01,  1.66992188e-01,  2.35351562e-01,  1.04980469e-01,\n",
        "       -4.96093750e-01, -1.64062500e-01, -1.56250000e-01, -5.22460938e-02,\n",
        "        1.03027344e-01,  2.43164062e-01, -1.88476562e-01,  5.07812500e-02,\n",
        "       -9.37500000e-02, -6.68945312e-02,  2.27050781e-02,  7.61718750e-02,\n",
        "        2.89062500e-01,  3.10546875e-01, -5.37109375e-02,  2.28515625e-01,\n",
        "        2.51464844e-02,  6.78710938e-02, -1.21093750e-01, -2.15820312e-01,\n",
        "       -2.73437500e-01, -3.07617188e-02, -3.37890625e-01,  1.53320312e-01,\n",
        "        2.33398438e-01, -2.08007812e-01,  3.73046875e-01,  8.20312500e-02,\n",
        "        2.51953125e-01, -7.61718750e-02, -4.66308594e-02, -2.23388672e-02,\n",
        "        2.99072266e-02, -5.93261719e-02, -4.66918945e-03, -2.44140625e-01,\n",
        "       -2.09960938e-01, -2.87109375e-01, -4.54101562e-02, -1.77734375e-01,\n",
        "       -2.79296875e-01, -8.59375000e-02,  9.13085938e-02,  2.51953125e-01])"
      ],
      "metadata": {
        "id": "-llYW3ciCGAf"
      },
      "execution_count": 3,
      "outputs": []
    },
    {
      "cell_type": "markdown",
      "source": [
        "For the word \"queen\" is this 300-dimensional vector."
      ],
      "metadata": {
        "id": "-m7seyneCRSG"
      }
    },
    {
      "cell_type": "code",
      "source": [
        "queen = np.array(\n",
        "      [ 0.00524902, -0.14355469, -0.06933594,  0.12353516,  0.13183594,\n",
        "       -0.08886719, -0.07128906, -0.21679688, -0.19726562,  0.05566406,\n",
        "       -0.07568359, -0.38085938,  0.10400391, -0.00081635,  0.1328125 ,\n",
        "        0.11279297,  0.07275391, -0.046875  ,  0.06591797,  0.09423828,\n",
        "        0.19042969,  0.13671875, -0.23632812, -0.11865234,  0.06542969,\n",
        "       -0.05322266, -0.30859375,  0.09179688,  0.18847656, -0.16699219,\n",
        "       -0.15625   , -0.13085938, -0.08251953,  0.21289062, -0.35546875,\n",
        "       -0.13183594,  0.09619141,  0.26367188, -0.09472656,  0.18359375,\n",
        "        0.10693359, -0.41601562,  0.26953125, -0.02770996,  0.17578125,\n",
        "       -0.11279297, -0.00411987,  0.14550781,  0.15625   ,  0.26757812,\n",
        "       -0.01794434,  0.09863281,  0.05297852, -0.03125   , -0.16308594,\n",
        "       -0.05810547, -0.34375   , -0.17285156,  0.11425781, -0.09033203,\n",
        "        0.13476562,  0.27929688, -0.04980469,  0.12988281,  0.17578125,\n",
        "       -0.22167969, -0.01190186,  0.140625  , -0.18164062,  0.11865234,\n",
        "        0.16113281,  0.21484375, -0.21191406,  0.12695312, -0.10009766,\n",
        "        0.13671875,  0.12695312,  0.01531982,  0.10449219, -0.02783203,\n",
        "       -0.06030273,  0.0222168 ,  0.18164062, -0.06738281,  0.04907227,\n",
        "        0.15429688, -0.25      ,  0.13964844,  0.29492188,  0.10644531,\n",
        "        0.3359375 , -0.22265625, -0.125     , -0.05297852,  0.19238281,\n",
        "        0.06835938,  0.06982422, -0.05200195,  0.14453125,  0.00448608,\n",
        "       -0.01013184, -0.1484375 ,  0.21777344, -0.1953125 , -0.390625  ,\n",
        "        0.07763672, -0.57421875, -0.07910156, -0.04052734, -0.1875    ,\n",
        "        0.25390625,  0.15722656,  0.125     ,  0.140625  ,  0.20117188,\n",
        "       -0.05859375,  0.16894531, -0.28125   ,  0.171875  ,  0.19140625,\n",
        "        0.12109375, -0.15039062, -0.00695801, -0.23730469,  0.13964844,\n",
        "       -0.00836182, -0.04711914,  0.14648438, -0.05688477,  0.10205078,\n",
        "        0.08447266,  0.21191406, -0.01831055,  0.50390625, -0.04858398,\n",
        "        0.22167969, -0.25585938,  0.03417969,  0.15820312, -0.03369141,\n",
        "        0.06738281, -0.25195312,  0.04614258, -0.07275391,  0.07958984,\n",
        "        0.04223633, -0.00128937,  0.20214844, -0.13085938, -0.06030273,\n",
        "        0.0378418 ,  0.13574219,  0.11181641, -0.24609375, -0.23925781,\n",
        "       -0.23632812, -0.04321289, -0.02905273,  0.23535156, -0.00390625,\n",
        "       -0.05029297,  0.18457031,  0.50390625, -0.00668335, -0.03466797,\n",
        "       -0.07568359,  0.06152344, -0.31445312, -0.03759766,  0.23632812,\n",
        "       -0.12792969,  0.15429688,  0.296875  ,  0.02709961, -0.17089844,\n",
        "       -0.22460938,  0.00241089,  0.10595703, -0.03320312,  0.0145874 ,\n",
        "       -0.21582031,  0.24707031, -0.07421875, -0.10205078,  0.16894531,\n",
        "       -0.05029297,  0.20800781, -0.03857422, -0.22265625,  0.27539062,\n",
        "       -0.05957031, -0.01757812,  0.01794434,  0.08886719,  0.12890625,\n",
        "        0.18261719,  0.14453125,  0.10400391, -0.1328125 , -0.32617188,\n",
        "        0.00386047, -0.11376953, -0.05053711, -0.13085938,  0.02209473,\n",
        "       -0.14648438,  0.10742188,  0.23046875,  0.15234375,  0.22753906,\n",
        "        0.04833984,  0.06787109, -0.06787109, -0.2578125 ,  0.11230469,\n",
        "        0.00363159, -0.12011719, -0.21289062,  0.11230469,  0.12158203,\n",
        "        0.06835938,  0.04907227,  0.2734375 , -0.00302124, -0.00378418,\n",
        "        0.00193787,  0.1875    , -0.29101562,  0.09033203,  0.26367188,\n",
        "       -0.25585938, -0.28710938, -0.40820312,  0.10546875,  0.39648438,\n",
        "       -0.07275391, -0.04321289, -0.06347656, -0.00060272, -0.11523438,\n",
        "        0.31445312, -0.22265625,  0.13574219, -0.01965332,  0.15332031,\n",
        "        0.00360107, -0.12011719,  0.06494141,  0.16210938, -0.16699219,\n",
        "        0.03271484, -0.00350952,  0.18847656,  0.19335938,  0.1328125 ,\n",
        "        0.06787109, -0.34179688, -0.08349609, -0.29492188, -0.02099609,\n",
        "        0.08886719,  0.32421875, -0.36914062, -0.0859375 , -0.04956055,\n",
        "        0.13183594,  0.04418945,  0.359375  ,  0.21484375,  0.265625  ,\n",
        "       -0.2734375 ,  0.23535156,  0.11425781,  0.08789062,  0.1875    ,\n",
        "       -0.33203125,  0.15136719, -0.03613281, -0.11914062,  0.27734375,\n",
        "        0.10839844, -0.07275391,  0.23242188,  0.00219727,  0.23828125,\n",
        "       -0.24902344, -0.12353516, -0.15917969, -0.00601196,  0.14550781,\n",
        "       -0.00460815, -0.22558594, -0.37890625, -0.37695312, -0.08251953,\n",
        "       -0.04125977,  0.16796875, -0.046875  ,  0.16308594,  0.15429688])"
      ],
      "metadata": {
        "id": "0rtJxKahCYoY"
      },
      "execution_count": 4,
      "outputs": []
    },
    {
      "cell_type": "markdown",
      "source": [
        "The similarity between these two vectors is given by the cosine similarity function."
      ],
      "metadata": {
        "id": "JetBGwUCCg-E"
      }
    },
    {
      "cell_type": "code",
      "source": [
        "cosine(king, queen)"
      ],
      "metadata": {
        "colab": {
          "base_uri": "https://localhost:8080/"
        },
        "id": "dJP26_70BV9D",
        "outputId": "9e623616-244f-45b8-df9f-1c89361d0e01"
      },
      "execution_count": 5,
      "outputs": [
        {
          "output_type": "execute_result",
          "data": {
            "text/plain": [
              "0.651095683867001"
            ]
          },
          "metadata": {},
          "execution_count": 5
        }
      ]
    },
    {
      "cell_type": "markdown",
      "source": [
        "The output is between 0 and 1 which means that these two vectors are similar."
      ],
      "metadata": {
        "id": "IetuFlRXCtAz"
      }
    },
    {
      "cell_type": "code",
      "source": [
        "cosine(king, king)"
      ],
      "metadata": {
        "colab": {
          "base_uri": "https://localhost:8080/"
        },
        "id": "p_el-60uCxx0",
        "outputId": "2176b406-1def-42bb-ca3b-5b030a5550ab"
      },
      "execution_count": 6,
      "outputs": [
        {
          "output_type": "execute_result",
          "data": {
            "text/plain": [
              "1.0000000000000002"
            ]
          },
          "metadata": {},
          "execution_count": 6
        }
      ]
    },
    {
      "cell_type": "markdown",
      "source": [
        "Is expected that the similarity between a vector and itself is 1 (the maximum similarity)."
      ],
      "metadata": {
        "id": "ijYhHb03C0Fc"
      }
    },
    {
      "cell_type": "markdown",
      "source": [
        "# Euclidean distance\n",
        "Distance between two vectors.\n",
        "* If two vectors are similar they have to be close to each other."
      ],
      "metadata": {
        "id": "YA0aRYVcFFJf"
      }
    },
    {
      "cell_type": "code",
      "source": [
        "def distance(v, u):\n",
        "    diff = v - u\n",
        "    squared = diff**2\n",
        "    sum = np.sum(squared)\n",
        "    root = np.sqrt(sum)\n",
        "    return root"
      ],
      "metadata": {
        "id": "g8cHHoq8FWZ_"
      },
      "execution_count": 7,
      "outputs": []
    },
    {
      "cell_type": "code",
      "source": [
        "distance(king, queen)"
      ],
      "metadata": {
        "colab": {
          "base_uri": "https://localhost:8080/"
        },
        "id": "sVuV7QnOFtbo",
        "outputId": "52fe5af5-b3f7-46dc-d2d9-976809f6afb5"
      },
      "execution_count": 8,
      "outputs": [
        {
          "output_type": "execute_result",
          "data": {
            "text/plain": [
              "2.4796923743687826"
            ]
          },
          "metadata": {},
          "execution_count": 8
        }
      ]
    },
    {
      "cell_type": "code",
      "source": [
        "distance(king, king)"
      ],
      "metadata": {
        "colab": {
          "base_uri": "https://localhost:8080/"
        },
        "id": "AHf010VzFwrP",
        "outputId": "9fafbdd2-5528-48fc-eb9f-2051a0363ee7"
      },
      "execution_count": 9,
      "outputs": [
        {
          "output_type": "execute_result",
          "data": {
            "text/plain": [
              "0.0"
            ]
          },
          "metadata": {},
          "execution_count": 9
        }
      ]
    },
    {
      "cell_type": "markdown",
      "source": [
        "# Finder function\n",
        "This function takes in three words, and the embedding dictionary. It outputs the country of the third word."
      ],
      "metadata": {
        "id": "1H52ZNKBGEN9"
      }
    },
    {
      "cell_type": "code",
      "source": [
        "def get_country(city1, country1, city2, embeddings):\n",
        "    group = [city1, country1, city2]\n",
        "\n",
        "    vcity1 = embeddings[city1]\n",
        "    vcountry1 = embeddings[country1]\n",
        "    vcity2 = embeddings[city2]\n",
        "    vcountry2 = vcountry1 - vcity1 + vcity2\n",
        "\n",
        "    similarity = -1\n",
        "    country = \"\"\n",
        "\n",
        "    for word in embeddings:\n",
        "        if word not in group:\n",
        "            vword = embeddings[word]\n",
        "            temp_similarity = cosine(vcountry2, vword)\n",
        "            if temp_similarity > similarity:\n",
        "                similarity = temp_similarity\n",
        "                country = (word, similarity)\n",
        "    return country"
      ],
      "metadata": {
        "id": "uLZ5wJCEGR32"
      },
      "execution_count": 10,
      "outputs": []
    },
    {
      "cell_type": "markdown",
      "source": [
        "# Load word embeddings\n",
        "Google News word embeddings subset."
      ],
      "metadata": {
        "id": "505xY9d9I-rn"
      }
    },
    {
      "cell_type": "code",
      "source": [
        "import pickle"
      ],
      "metadata": {
        "id": "7ZfYQVwYJQv8"
      },
      "execution_count": 11,
      "outputs": []
    },
    {
      "cell_type": "code",
      "source": [
        "!gdown 1m2AlQbYOWNRjJY6v0mgr3XTWyl0YkwQK\n",
        "word_embeddings = pickle.load(open(\"/content/word_embeddings_subset.p\", \"rb\"))"
      ],
      "metadata": {
        "colab": {
          "base_uri": "https://localhost:8080/"
        },
        "id": "S1UmcBQyJEa_",
        "outputId": "501085ec-e7a2-428c-fceb-c4d2874e34fa"
      },
      "execution_count": 12,
      "outputs": [
        {
          "output_type": "stream",
          "name": "stdout",
          "text": [
            "Downloading...\n",
            "From: https://drive.google.com/uc?id=1m2AlQbYOWNRjJY6v0mgr3XTWyl0YkwQK\n",
            "To: /content/word_embeddings_subset.p\n",
            "\r  0% 0.00/309k [00:00<?, ?B/s]\r100% 309k/309k [00:00<00:00, 4.42MB/s]\n"
          ]
        }
      ]
    },
    {
      "cell_type": "markdown",
      "source": [
        "# Test get_country"
      ],
      "metadata": {
        "id": "5X30uIgJJbQF"
      }
    },
    {
      "cell_type": "code",
      "source": [
        "get_country('Athens', 'Greece', 'Cairo', word_embeddings)"
      ],
      "metadata": {
        "colab": {
          "base_uri": "https://localhost:8080/"
        },
        "id": "BpjLHeZQJY11",
        "outputId": "074644b5-7bdf-469b-b45a-7c3e2fd64f4f"
      },
      "execution_count": 13,
      "outputs": [
        {
          "output_type": "execute_result",
          "data": {
            "text/plain": [
              "('Egypt', 0.7626821)"
            ]
          },
          "metadata": {},
          "execution_count": 13
        }
      ]
    },
    {
      "cell_type": "markdown",
      "source": [
        "Athens is to Greece as Cairo is to Egypt."
      ],
      "metadata": {
        "id": "PAKYJn3bKOTL"
      }
    },
    {
      "cell_type": "markdown",
      "source": [
        "<table>\n",
        "    <td>\n",
        "        Based on:\n",
        "    </td>\n",
        "    <td>\n",
        "        An assignment from the Natural Language Processing Specialization in coursera.\n",
        "    </td>\n",
        "</table>"
      ],
      "metadata": {
        "id": "6gGGjkwHJjcn"
      }
    }
  ]
}