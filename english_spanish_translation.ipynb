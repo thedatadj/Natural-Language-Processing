{
  "nbformat": 4,
  "nbformat_minor": 0,
  "metadata": {
    "colab": {
      "provenance": [],
      "authorship_tag": "ABX9TyMFH/Qo8YwLoXODyZ3sicTI",
      "include_colab_link": true
    },
    "kernelspec": {
      "name": "python3",
      "display_name": "Python 3"
    },
    "language_info": {
      "name": "python"
    }
  },
  "cells": [
    {
      "cell_type": "markdown",
      "metadata": {
        "id": "view-in-github",
        "colab_type": "text"
      },
      "source": [
        "<a href=\"https://colab.research.google.com/github/thedatadj/natural-language-processing/blob/main/english_spanish_translation.ipynb\" target=\"_parent\"><img src=\"https://colab.research.google.com/assets/colab-badge.svg\" alt=\"Open In Colab\"/></a>"
      ]
    },
    {
      "cell_type": "code",
      "execution_count": 1,
      "metadata": {
        "id": "w-UWclmSSLfC"
      },
      "outputs": [],
      "source": [
        "%%capture\n",
        "!pip install \"tensorflow-text>=2.11\"\n",
        "!pip install einops"
      ]
    },
    {
      "cell_type": "code",
      "source": [
        "import numpy as np\n",
        "\n",
        "import typing\n",
        "from typing import Any, Tuple\n",
        "\n",
        "import einops\n",
        "import matplotlib.pyplot as plt\n",
        "import matplotlib.ticker as ticker\n",
        "\n",
        "import tensorflow as tf\n",
        "import tensorflow_text as tf_text"
      ],
      "metadata": {
        "id": "vzdu8ckBScYp"
      },
      "execution_count": 2,
      "outputs": []
    },
    {
      "cell_type": "code",
      "source": [
        "#@title\n",
        "class ShapeChecker():\n",
        "    def __init__(self):\n",
        "        self.shapes = {}\n",
        "\n",
        "    def __call__(self, tensor, names, broadcast=False):\n",
        "        if not tf.executing_eagerly():\n",
        "            return\n",
        "\n",
        "        parsed = einops.parse_shape(tensor, names)\n",
        "\n",
        "        for name, new_dim in parsed.items():\n",
        "            old_dim = self.shapes.get(name, None)\n",
        "\n",
        "            if (broadcast and new_dim == 1):\n",
        "                continue\n",
        "\n",
        "            if old_dim is None:\n",
        "                self.shapes[name] = new_dim\n",
        "                continue\n",
        "\n",
        "            if new_dim != old_dim:\n",
        "                raise ValueError(f\"Shape mismatch for dimension: '{name}'\\n\"\n",
        "                                 f\"    found: {new_dim}\\n\"\n",
        "                                 f\"    expected: {old_dim}\\n\")"
      ],
      "metadata": {
        "id": "P0B-TG5tS3Tq"
      },
      "execution_count": 3,
      "outputs": []
    },
    {
      "cell_type": "markdown",
      "source": [
        "# The data"
      ],
      "metadata": {
        "id": "dzTDX2zRUDtv"
      }
    },
    {
      "cell_type": "code",
      "source": [
        "# Download the file\n",
        "import pathlib\n",
        "\n",
        "path_to_zip = tf.keras.utils.get_file('spa-eng.zip',\n",
        "                                      origin='http://storage.googleapis.com/download.tensorflow.org/data/spa-eng.zip',\n",
        "                                      extract=True)\n",
        "path_to_file = pathlib.Path(path_to_zip).parent/'spa-eng/spa.txt'"
      ],
      "metadata": {
        "colab": {
          "base_uri": "https://localhost:8080/"
        },
        "id": "eilGpbkYT745",
        "outputId": "23815b58-e925-43ff-c89f-2f66c5e165f4"
      },
      "execution_count": 4,
      "outputs": [
        {
          "output_type": "stream",
          "name": "stdout",
          "text": [
            "Downloading data from http://storage.googleapis.com/download.tensorflow.org/data/spa-eng.zip\n",
            "2638744/2638744 [==============================] - 0s 0us/step\n"
          ]
        }
      ]
    },
    {
      "cell_type": "code",
      "source": [
        "def load_data(path):\n",
        "    text = path.read_text(encoding='utf-8')\n",
        "    lines = text.splitlines()\n",
        "    pairs = [line.split('\\t') for line in lines]\n",
        "    context = np.array([context for target, context in pairs])\n",
        "    target = np.array([target for target, context in pairs])\n",
        "    return target, context"
      ],
      "metadata": {
        "id": "tGdsrgkWUct9"
      },
      "execution_count": 5,
      "outputs": []
    },
    {
      "cell_type": "code",
      "source": [
        "target_raw, context_raw = load_data(path_to_file)\n",
        "print(context_raw[-1])"
      ],
      "metadata": {
        "colab": {
          "base_uri": "https://localhost:8080/"
        },
        "id": "JMY_p196U3aU",
        "outputId": "f0dbf0a8-095f-42e3-893f-797362216a05"
      },
      "execution_count": 6,
      "outputs": [
        {
          "output_type": "stream",
          "name": "stdout",
          "text": [
            "Si quieres sonar como un hablante nativo, debes estar dispuesto a practicar diciendo la misma frase una y otra vez de la misma manera en que un músico de banjo practica el mismo fraseo una y otra vez hasta que lo puedan tocar correctamente y en el tiempo esperado.\n"
          ]
        }
      ]
    },
    {
      "cell_type": "code",
      "source": [
        "print(target_raw[-1])"
      ],
      "metadata": {
        "colab": {
          "base_uri": "https://localhost:8080/"
        },
        "id": "v5X8DBbfU9pG",
        "outputId": "68baaa6f-a9ed-46de-870b-e3c4baf6b23e"
      },
      "execution_count": 7,
      "outputs": [
        {
          "output_type": "stream",
          "name": "stdout",
          "text": [
            "If you want to sound like a native speaker, you must be willing to practice saying the same sentence over and over in the same way that banjo players practice the same phrase over and over until they can play it correctly and at the desired tempo.\n"
          ]
        }
      ]
    },
    {
      "cell_type": "code",
      "source": [
        "BUFFER_SIZE = len(context_raw)\n",
        "BATCH_SIZE = 64\n",
        "\n",
        "is_train = np.random.uniform(size=(len(target_raw),)) < 0.8\n",
        "\n",
        "train_raw = tf.data.Dataset.from_tensor_slices((context_raw[is_train], target_raw[is_train]))\n",
        "train_raw = train_raw.shuffle(BUFFER_SIZE).batch(BATCH_SIZE)\n",
        "\n",
        "val_raw = tf.data.Dataset.from_tensor_slices((context_raw[~is_train], target_raw[~is_train]))\n",
        "val_raw = val_raw.shuffle(BUFFER_SIZE).batch(BATCH_SIZE)"
      ],
      "metadata": {
        "id": "VmCWPv97VBlG"
      },
      "execution_count": 9,
      "outputs": []
    },
    {
      "cell_type": "code",
      "source": [
        "for example_context_strings, example_target_strings in train_raw.take(1):\n",
        "    print(example_context_strings[:5])\n",
        "    print()\n",
        "    print(example_target_strings[:5])\n",
        "    break"
      ],
      "metadata": {
        "colab": {
          "base_uri": "https://localhost:8080/"
        },
        "id": "MNOh_I5kZWQT",
        "outputId": "005a12df-5bc6-4957-bd4e-ec169e869c96"
      },
      "execution_count": 10,
      "outputs": [
        {
          "output_type": "stream",
          "name": "stdout",
          "text": [
            "tf.Tensor(\n",
            "[b'Le dio una caja.' b'Yo era demasiado r\\xc3\\xa1pido.'\n",
            " b'\\xc2\\xbfEl coche parec\\xc3\\xada viejo?'\n",
            " b'Quiero terminar este trabajo a las cinco.'\n",
            " b'Dejamos la puerta abierta.'], shape=(5,), dtype=string)\n",
            "\n",
            "tf.Tensor(\n",
            "[b'He gave her a box.' b'I was too fast.' b'Did the car look old?'\n",
            " b'I want to finish this work by five.' b'We left the door open.'], shape=(5,), dtype=string)\n"
          ]
        }
      ]
    },
    {
      "cell_type": "markdown",
      "source": [
        "## Text preprocessing"
      ],
      "metadata": {
        "id": "5cFh_RYfZ_au"
      }
    },
    {
      "cell_type": "markdown",
      "source": [
        "### Standardization"
      ],
      "metadata": {
        "id": "eQyeI1ISaFtZ"
      }
    },
    {
      "cell_type": "code",
      "source": [
        "example_text = tf.constant('¿Todavía está en casa?')\n",
        "\n",
        "print(example_text.numpy())\n",
        "print(tf_text.normalize_utf8(example_text, 'NFKD').numpy())"
      ],
      "metadata": {
        "colab": {
          "base_uri": "https://localhost:8080/"
        },
        "id": "NiOxTIz4ZkF4",
        "outputId": "ebc8c1e8-734c-4785-a7e2-91ec50bb5721"
      },
      "execution_count": 11,
      "outputs": [
        {
          "output_type": "stream",
          "name": "stdout",
          "text": [
            "b'\\xc2\\xbfTodav\\xc3\\xada est\\xc3\\xa1 en casa?'\n",
            "b'\\xc2\\xbfTodavi\\xcc\\x81a esta\\xcc\\x81 en casa?'\n"
          ]
        }
      ]
    },
    {
      "cell_type": "code",
      "source": [
        "def tf_lower_and_split_punct(text):\n",
        "    text = tf_text.normalize_utf8(text, 'NFKD')\n",
        "    text = tf.strings.lower(text)\n",
        "    text = tf.strings.regex_replace(text, '[^ a-z.?!,¿]', '')\n",
        "    text = tf.strings.regex_replace(text, '[.?!,¿]', r' \\0 ')\n",
        "    text = tf.strings.strip(text)\n",
        "    text = tf.strings.join(['[START]', text, '[END]'], separator=' ')\n",
        "    return text"
      ],
      "metadata": {
        "id": "4Ncr1dXiaV-v"
      },
      "execution_count": 12,
      "outputs": []
    },
    {
      "cell_type": "code",
      "source": [
        "print(example_text.numpy().decode())\n",
        "print(tf_lower_and_split_punct(example_text).numpy().decode())"
      ],
      "metadata": {
        "colab": {
          "base_uri": "https://localhost:8080/"
        },
        "id": "uuR9qKyzbF49",
        "outputId": "61df4ec3-7dad-4da3-8e93-30152ac29126"
      },
      "execution_count": 13,
      "outputs": [
        {
          "output_type": "stream",
          "name": "stdout",
          "text": [
            "¿Todavía está en casa?\n",
            "[START] ¿ todavia esta en casa ? [END]\n"
          ]
        }
      ]
    },
    {
      "cell_type": "markdown",
      "source": [
        "### Text Vectorization"
      ],
      "metadata": {
        "id": "PltEDr0jbUnn"
      }
    },
    {
      "cell_type": "code",
      "source": [
        "max_vocab_size = 5000\n",
        "\n",
        "context_text_processor = tf.keras.layers.TextVectorization(\n",
        "    standardize=tf_lower_and_split_punct,\n",
        "    max_tokens=max_vocab_size,\n",
        "    ragged=True\n",
        ")"
      ],
      "metadata": {
        "id": "8YyKriBQbQuV"
      },
      "execution_count": 14,
      "outputs": []
    },
    {
      "cell_type": "code",
      "source": [
        "context_text_processor.adapt(train_raw.map(lambda context, target:context))\n",
        "\n",
        "context_text_processor.get_vocabulary()[:10]"
      ],
      "metadata": {
        "colab": {
          "base_uri": "https://localhost:8080/"
        },
        "id": "Ur1W9G-tbmVb",
        "outputId": "d4e52a12-670f-4aa2-ed40-9b4155fd5139"
      },
      "execution_count": 15,
      "outputs": [
        {
          "output_type": "execute_result",
          "data": {
            "text/plain": [
              "['', '[UNK]', '[START]', '[END]', '.', 'que', 'de', 'el', 'a', 'no']"
            ]
          },
          "metadata": {},
          "execution_count": 15
        }
      ]
    },
    {
      "cell_type": "code",
      "source": [
        "target_text_processor = tf.keras.layers.TextVectorization(\n",
        "    standardize=tf_lower_and_split_punct,\n",
        "    max_tokens=max_vocab_size,\n",
        "    ragged=True\n",
        ")\n",
        "\n",
        "target_text_processor.adapt(train_raw.map(lambda context, target: target))\n",
        "target_text_processor.get_vocabulary()[:10]"
      ],
      "metadata": {
        "colab": {
          "base_uri": "https://localhost:8080/"
        },
        "id": "okVWdhS6by80",
        "outputId": "f5ec5a61-71b8-4674-f663-86985f50c71f"
      },
      "execution_count": 16,
      "outputs": [
        {
          "output_type": "execute_result",
          "data": {
            "text/plain": [
              "['', '[UNK]', '[START]', '[END]', '.', 'the', 'i', 'to', 'you', 'tom']"
            ]
          },
          "metadata": {},
          "execution_count": 16
        }
      ]
    },
    {
      "cell_type": "code",
      "source": [
        "example_tokens = context_text_processor(example_context_strings)\n",
        "example_tokens[:3, :]"
      ],
      "metadata": {
        "colab": {
          "base_uri": "https://localhost:8080/"
        },
        "id": "3OkbJdNWcMf3",
        "outputId": "7117cba6-7fba-42e3-cfb4-55532e0757f7"
      },
      "execution_count": 17,
      "outputs": [
        {
          "output_type": "execute_result",
          "data": {
            "text/plain": [
              "<tf.RaggedTensor [[2, 29, 218, 23, 432, 4, 3], [2, 39, 71, 122, 271, 4, 3],\n",
              " [2, 13, 7, 158, 523, 426, 12, 3]]>"
            ]
          },
          "metadata": {},
          "execution_count": 17
        }
      ]
    },
    {
      "cell_type": "code",
      "source": [
        "context_vocab = np.array(context_text_processor.get_vocabulary())\n",
        "tokens = context_vocab[example_tokens[0].numpy()]\n",
        "' '.join(tokens)"
      ],
      "metadata": {
        "colab": {
          "base_uri": "https://localhost:8080/",
          "height": 35
        },
        "id": "NaT-fXOEc4T0",
        "outputId": "94114d85-7216-442a-eda8-8ba33a8619be"
      },
      "execution_count": 19,
      "outputs": [
        {
          "output_type": "execute_result",
          "data": {
            "text/plain": [
              "'[START] le dio una caja . [END]'"
            ],
            "application/vnd.google.colaboratory.intrinsic+json": {
              "type": "string"
            }
          },
          "metadata": {},
          "execution_count": 19
        }
      ]
    },
    {
      "cell_type": "code",
      "source": [
        "plt.subplot(1, 2, 1)\n",
        "plt.pcolormesh(example_tokens.to_tensor())\n",
        "plt.title('Token IDs')\n",
        "\n",
        "plt.subplot(1, 2, 2)\n",
        "plt.pcolormesh(example_tokens.to_tensor() != 0)\n",
        "plt.title('Mask')"
      ],
      "metadata": {
        "colab": {
          "base_uri": "https://localhost:8080/",
          "height": 469
        },
        "id": "G9nK0puidTkg",
        "outputId": "5b42ec88-c125-4846-d127-660fab217473"
      },
      "execution_count": 23,
      "outputs": [
        {
          "output_type": "execute_result",
          "data": {
            "text/plain": [
              "Text(0.5, 1.0, 'Mask')"
            ]
          },
          "metadata": {},
          "execution_count": 23
        },
        {
          "output_type": "display_data",
          "data": {
            "text/plain": [
              "<Figure size 640x480 with 2 Axes>"
            ],
            "image/png": "[encoded data removed]"
          },
          "metadata": {}
        }
      ]
    },
    {
      "cell_type": "markdown",
      "source": [
        "## Process the dataset"
      ],
      "metadata": {
        "id": "C4GpUDUReSKA"
      }
    },
    {
      "cell_type": "code",
      "source": [
        "def process_text(context, target):\n",
        "    context = context_text_processor(context).to_tensor()\n",
        "    target = target_text_processor(target)\n",
        "    targ_in = target[:, :-1].to_tensor()\n",
        "    targ_out = target[:, 1:].to_tensor()\n",
        "    return (context, targ_in), targ_out\n",
        "\n",
        "train_ds = train_raw.map(process_text, tf.data.AUTOTUNE)\n",
        "val_ds = val_raw.map(process_text, tf.data.AUTOTUNE)"
      ],
      "metadata": {
        "id": "eunNogDhd96V"
      },
      "execution_count": 25,
      "outputs": []
    },
    {
      "cell_type": "code",
      "source": [
        "for (ex_context_tok, ex_tar_in), ex_tar_out in train_ds.take(1):\n",
        "    print(ex_context_tok[0, :10].numpy())\n",
        "    print()\n",
        "    print(ex_tar_in[0, :10].numpy())\n",
        "    print(ex_tar_out[0, :10].numpy())"
      ],
      "metadata": {
        "colab": {
          "base_uri": "https://localhost:8080/"
        },
        "id": "hYo1eHt-epoO",
        "outputId": "563215bb-9b53-440c-bd30-53b33054133b"
      },
      "execution_count": 34,
      "outputs": [
        {
          "output_type": "stream",
          "name": "stdout",
          "text": [
            "[   2   49 4026   21   43    4    3    0    0    0]\n",
            "\n",
            "[  2   6  37   7 483   8  25  16   4   0]\n",
            "[  6  37   7 483   8  25  16   4   3   0]\n"
          ]
        }
      ]
    },
    {
      "cell_type": "markdown",
      "source": [
        "# The encoder/decoder"
      ],
      "metadata": {
        "id": "RgVapTxWfJjx"
      }
    },
    {
      "cell_type": "code",
      "source": [
        "UNITS = 256"
      ],
      "metadata": {
        "id": "ieHxzVXUfQ2Y"
      },
      "execution_count": 27,
      "outputs": []
    },
    {
      "cell_type": "markdown",
      "source": [
        "## The encoder"
      ],
      "metadata": {
        "id": "kETEhsVpfPOo"
      }
    },
    {
      "cell_type": "code",
      "source": [
        "class Encoder(tf.keras.layers.Layer):\n",
        "    def __init__(self, text_processor, units):\n",
        "        super(Encoder, self).__init__()\n",
        "        self.text_processor = text_processor\n",
        "        self.vocab_size = text_processor.vocabulary_size()\n",
        "        self.units = units\n",
        "\n",
        "        self.embedding = tf.keras.layers.Embedding(self.vocab_size, units,\n",
        "                                                   mask_zero=True)\n",
        "\n",
        "        self.rnn = tf.keras.layers.Bidirectional(\n",
        "            merge_mode='sum',\n",
        "            layer=tf.keras.layers.GRU(units,\n",
        "                                      return_sequences=True,\n",
        "                                      recurrent_initializer='glorot_uniform')\n",
        "        )\n",
        "\n",
        "    def call(self, x):\n",
        "        shape_checker = ShapeChecker()\n",
        "        shape_checker(x, 'batch s')\n",
        "\n",
        "        x = self.embedding(x)\n",
        "        shape_checker(x, 'batch s units')\n",
        "\n",
        "        x = self.rnn(x)\n",
        "        shape_checker(x, 'batch s units')\n",
        "\n",
        "        return x\n",
        "\n",
        "    def convert_input(self, texts):\n",
        "        texts = tf.convert_to_tensor(texts)\n",
        "        if len(texts.shape) == 0:\n",
        "            texts = tf.convert_to_tensor(texts)[tf.newaxis]\n",
        "        context = self.text_processor(texts).to_tensor()\n",
        "        context = self(context)\n",
        "        return context"
      ],
      "metadata": {
        "id": "pfSV-0WcfFJa"
      },
      "execution_count": 30,
      "outputs": []
    },
    {
      "cell_type": "code",
      "source": [
        "encoder = Encoder(context_text_processor, UNITS)\n",
        "ex_context = encoder(ex_context_tok)\n",
        "\n",
        "print(f'Context tokens, shape (batch, s): {ex_context_tok.shape}')\n",
        "print(f'Encoder output, shape (batch, s, units): {ex_context.shape}')"
      ],
      "metadata": {
        "colab": {
          "base_uri": "https://localhost:8080/"
        },
        "id": "VD-rNLW2gxtw",
        "outputId": "728a45e5-1976-4a98-8b6c-c31a128cb793"
      },
      "execution_count": 36,
      "outputs": [
        {
          "output_type": "stream",
          "name": "stdout",
          "text": [
            "Context tokens, shape (batch, s): (64, 26)\n",
            "Encoder output, shape (batch, s, units): (64, 26, 256)\n"
          ]
        }
      ]
    },
    {
      "cell_type": "markdown",
      "source": [
        "## The attention layer"
      ],
      "metadata": {
        "id": "KQkxrEGchgXC"
      }
    },
    {
      "cell_type": "code",
      "source": [
        "class CrossAttention(tf.keras.layers.Layer):\n",
        "    def __init__(self, units, **kwargs):\n",
        "        super().__init__()\n",
        "        self.mha = tf.keras.layers.MultiHeadAttention(key_dim=units, num_heads=1, **kwargs)\n",
        "        self.layernorm = tf.keras.layers.LayerNormalization()\n",
        "        self.add = tf.keras.layers.Add()\n",
        "\n",
        "    def call(self, x, context):\n",
        "        shape_checker = ShapeChecker()\n",
        "\n",
        "        shape_checker(x, 'batch t units')\n",
        "        shape_checker(context, 'batch s units')\n",
        "\n",
        "        attn_output, attn_scores = self.mha(\n",
        "            query=x,\n",
        "            value=context,\n",
        "            return_attention_scores=True\n",
        "        )\n",
        "\n",
        "        shape_checker(x, 'batch t units')\n",
        "        shape_checker(attn_scores, 'batch heads t s')\n",
        "\n",
        "        attn_scores = tf.reduce_mean(attn_scores, axis=1)\n",
        "        shape_checker(attn_scores, 'batch t s')\n",
        "        self.last_attention_weights = attn_scores\n",
        "\n",
        "        x = self.add([x, attn_output])\n",
        "        x = self.layernorm(x)\n",
        "\n",
        "        return x"
      ],
      "metadata": {
        "id": "reo6LOGNhJXY"
      },
      "execution_count": 41,
      "outputs": []
    },
    {
      "cell_type": "code",
      "source": [
        "attention_layer = CrossAttention(UNITS)\n",
        "\n",
        "embed = tf.keras.layers.Embedding(target_text_processor.vocabulary_size(),\n",
        "                                  output_dim=UNITS, mask_zero=True)\n",
        "\n",
        "ex_tar_embed = embed(ex_tar_in)\n",
        "\n",
        "result = attention_layer(ex_tar_embed, ex_context)\n",
        "\n",
        "print(f'Context sequence, shape (batch, s, units): {ex_context.shape}')\n",
        "print(f'Target sequence, shape (batch, t, units): {ex_tar_embed.shape}')\n",
        "print(f'Attention result, shape (batch, t, units): {result.shape}')\n",
        "print(f'Attention weights, shape (batch, t, s):    {attention_layer.last_attention_weights.shape}')"
      ],
      "metadata": {
        "colab": {
          "base_uri": "https://localhost:8080/"
        },
        "id": "bduIpwgnispj",
        "outputId": "9b56eeba-3a52-44c1-fd8c-1642aea1a3a2"
      },
      "execution_count": 42,
      "outputs": [
        {
          "output_type": "stream",
          "name": "stdout",
          "text": [
            "Context sequence, shape (batch, s, units): (64, 26, 256)\n",
            "Target sequence, shape (batch, t, units): (64, 23, 256)\n",
            "Attention result, shape (batch, t, units): (64, 23, 256)\n",
            "Attention weights, shape (batch, t, s):    (64, 23, 26)\n"
          ]
        }
      ]
    },
    {
      "cell_type": "code",
      "source": [
        "attention_layer.last_attention_weights[0].numpy().sum(axis=-1)"
      ],
      "metadata": {
        "colab": {
          "base_uri": "https://localhost:8080/"
        },
        "id": "qDy8TOqwjLj3",
        "outputId": "6089349e-7e58-47f0-9cfd-04a767d04121"
      },
      "execution_count": 43,
      "outputs": [
        {
          "output_type": "execute_result",
          "data": {
            "text/plain": [
              "array([1.        , 1.        , 0.9999999 , 0.9999999 , 1.        ,\n",
              "       0.99999994, 1.        , 1.        , 1.        , 1.        ,\n",
              "       1.        , 1.        , 1.        , 1.        , 1.        ,\n",
              "       1.        , 1.        , 1.        , 1.        , 1.        ,\n",
              "       1.        , 1.        , 1.        ], dtype=float32)"
            ]
          },
          "metadata": {},
          "execution_count": 43
        }
      ]
    },
    {
      "cell_type": "code",
      "source": [
        "attention_weights = attention_layer.last_attention_weights\n",
        "mask=(ex_context_tok != 0).numpy()\n",
        "\n",
        "plt.subplot(1, 2, 1)\n",
        "plt.pcolormesh(mask*attention_weights[:, 0, :])\n",
        "plt.title('Attention weights')\n",
        "\n",
        "plt.subplot(1, 2, 2)\n",
        "plt.pcolormesh(mask)\n",
        "plt.title('Mask')"
      ],
      "metadata": {
        "colab": {
          "base_uri": "https://localhost:8080/",
          "height": 469
        },
        "id": "S9jr1AzCjdGF",
        "outputId": "c299916b-d7fb-48b4-d56f-0668f035486d"
      },
      "execution_count": 44,
      "outputs": [
        {
          "output_type": "execute_result",
          "data": {
            "text/plain": [
              "Text(0.5, 1.0, 'Mask')"
            ]
          },
          "metadata": {},
          "execution_count": 44
        },
        {
          "output_type": "display_data",
          "data": {
            "text/plain": [
              "<Figure size 640x480 with 2 Axes>"
            ],
            "image/png": "[encoded data removed]"
          },
          "metadata": {}
        }
      ]
    },
    {
      "cell_type": "markdown",
      "source": [
        "## The decoder"
      ],
      "metadata": {
        "id": "c4E6-cUUj3EE"
      }
    },
    {
      "cell_type": "code",
      "source": [
        "class Decoder(tf.keras.layers.Layer):\n",
        "    @classmethod\n",
        "    def add_method(cls, fun):\n",
        "        setattr(cls, fun.__name__, fun)\n",
        "        return fun\n",
        "\n",
        "    def __init__(self, text_processor, units):\n",
        "        super(Decoder, self).__init__()\n",
        "        self.text_processor = text_processor\n",
        "        self.vocab_size = text_processor.vocabulary_size()\n",
        "        self.word_to_id = tf.keras.layers.StringLookup(\n",
        "            vocabulary=text_processor.get_vocabulary(),\n",
        "            mask_token='', oov_token='[UNK]'\n",
        "        )\n",
        "        self.id_to_word = tf.keras.layers.StringLookup(\n",
        "            vocabulary=text_processor.get_vocabulary(),\n",
        "            mask_token='', oov_token='[UNK]',\n",
        "            invert=True\n",
        "        )\n",
        "        self.start_token = self.word_to_id('[START]')\n",
        "        self.end_token = self.word_to_id('[END]')\n",
        "\n",
        "        self.units = units\n",
        "\n",
        "        self.embedding = tf.keras.layers.Embedding(self.vocab_size,\n",
        "                                                   units, mask_zero=True)\n",
        "\n",
        "        self.rnn = tf.keras.layers.GRU(units,\n",
        "                                       return_sequences=True,\n",
        "                                       return_state=True,\n",
        "                                       recurrent_initializer='glorot_uniform')\n",
        "\n",
        "        self.attention = CrossAttention(units)\n",
        "\n",
        "        self.output_layer = tf.keras.layers.Dense(self.vocab_size)"
      ],
      "metadata": {
        "id": "vezFA7Kaj0TC"
      },
      "execution_count": 48,
      "outputs": []
    },
    {
      "cell_type": "markdown",
      "source": [
        "### Training"
      ],
      "metadata": {
        "id": "i2qhZrUqlVUF"
      }
    },
    {
      "cell_type": "code",
      "source": [
        "@Decoder.add_method\n",
        "def call(self,\n",
        "         context, x,\n",
        "         state=None,\n",
        "         return_state=False):\n",
        "    shape_checker = ShapeChecker()\n",
        "    shape_checker(x, 'batch t')\n",
        "    shape_checker(context, 'batch s units')\n",
        "\n",
        "    x = self.embedding(x)\n",
        "    shape_checker(x, 'batch t units')\n",
        "\n",
        "    x, state = self.rnn(x, initial_state=state)\n",
        "    shape_checker(x, 'batch t units')\n",
        "\n",
        "    x = self.attention(x, context)\n",
        "    self.last_attention_weights = self.attention.last_attention_weights\n",
        "    shape_checker(x, 'batch t units')\n",
        "    shape_checker(self.last_attention_weights, 'batch t s')\n",
        "\n",
        "    logits = self.output_layer(x)\n",
        "    shape_checker(logits, 'batch t target_vocab_size')\n",
        "\n",
        "    if return_state:\n",
        "        return logits, state\n",
        "    else:\n",
        "        return logits"
      ],
      "metadata": {
        "id": "Y-KAvUWElSIW"
      },
      "execution_count": 49,
      "outputs": []
    },
    {
      "cell_type": "code",
      "source": [
        "decoder = Decoder(target_text_processor, UNITS)"
      ],
      "metadata": {
        "id": "82fJFU9wmMl_"
      },
      "execution_count": 50,
      "outputs": []
    },
    {
      "cell_type": "code",
      "source": [
        "logits = decoder(ex_context, ex_tar_in)\n",
        "\n",
        "print(f'encoder output shape: (batch, s, units) {ex_context.shape}')\n",
        "print(f'input target tokens shape: (batch, t) {ex_tar_in.shape}')\n",
        "print(f'logits shape shape: (batch, target_vocabulary_size) {logits.shape}')"
      ],
      "metadata": {
        "colab": {
          "base_uri": "https://localhost:8080/"
        },
        "id": "jD4poh2amRT-",
        "outputId": "eabf23ec-5d32-4379-cb57-ba37444f0c83"
      },
      "execution_count": 51,
      "outputs": [
        {
          "output_type": "stream",
          "name": "stdout",
          "text": [
            "encoder output shape: (batch, s, units) (64, 26, 256)\n",
            "input target tokens shape: (batch, t) (64, 23)\n",
            "logits shape shape: (batch, target_vocabulary_size) (64, 23, 5000)\n"
          ]
        }
      ]
    },
    {
      "cell_type": "markdown",
      "source": [
        "### Inference"
      ],
      "metadata": {
        "id": "8TT8mX3dm_7Y"
      }
    },
    {
      "cell_type": "code",
      "source": [
        "@Decoder.add_method\n",
        "def get_initial_state(self, context):\n",
        "    batch_size = tf.shape(context)[0]\n",
        "    start_tokens = tf.fill([batch_size, 1], self.start_token)\n",
        "    done = tf.zeros([batch_size, 1], dtype=tf.bool)\n",
        "    embedded = self.embedding(start_tokens)\n",
        "    return start_tokens, done, self.rnn.get_initial_state(embedded)[0]"
      ],
      "metadata": {
        "id": "43wohrmonAxB"
      },
      "execution_count": 52,
      "outputs": []
    },
    {
      "cell_type": "code",
      "source": [
        "@Decoder.add_method\n",
        "def tokens_to_text(self, tokens):\n",
        "  words = self.id_to_word(tokens)\n",
        "  result = tf.strings.reduce_join(words, axis=1, separator=' ')\n",
        "  result = tf.strings.regex_replace(result, '^ *\\[START\\] *', '')\n",
        "  result = tf.strings.regex_replace(result, ' *\\[END\\] *$', '')\n",
        "  return result"
      ],
      "metadata": {
        "id": "8ndD4zK_nZ6f"
      },
      "execution_count": 55,
      "outputs": []
    },
    {
      "cell_type": "code",
      "source": [
        "@Decoder.add_method\n",
        "def get_next_token(self, context, next_token, done, state, temperature = 0.0):\n",
        "    logits, state = self(\n",
        "        context, next_token,\n",
        "        state = state,\n",
        "        return_state=True\n",
        "    )\n",
        "\n",
        "    if temperature == 0.0:\n",
        "        next_token = tf.argmax(logits, axis=-1)\n",
        "    else:\n",
        "        logits = logits[:, -1, :]/temperature\n",
        "        next_token = tf.random.categorical(logits, num_samples=1)\n",
        "\n",
        "    done = done | (next_token == self.end_token)\n",
        "    next_token = tf.where(done, tf.constant(0, dtype=tf.int64), next_token)\n",
        "\n",
        "    return next_token, done, state"
      ],
      "metadata": {
        "id": "CPI6a2zIn-tZ"
      },
      "execution_count": 65,
      "outputs": []
    },
    {
      "cell_type": "code",
      "source": [
        "next_token, done, state = decoder.get_initial_state(ex_context)\n",
        "tokens = []\n",
        "\n",
        "for n in range(10):\n",
        "    next_token, done, state = decoder.get_next_token(\n",
        "        ex_context, next_token, done, state, temperature=1.0\n",
        "    )\n",
        "    tokens.append(next_token)\n",
        "\n",
        "tokens = tf.concat(tokens, axis=-1)\n",
        "\n",
        "result = decoder.tokens_to_text(tokens)\n",
        "result[:3].numpy()"
      ],
      "metadata": {
        "colab": {
          "base_uri": "https://localhost:8080/"
        },
        "id": "OXeuMWynoyly",
        "outputId": "f2352aff-435f-4998-d768-410cf9dd29af"
      },
      "execution_count": 66,
      "outputs": [
        {
          "output_type": "execute_result",
          "data": {
            "text/plain": [
              "array([b'pay recent damaged unfinished photograph wolves hard bulgarian including brothers',\n",
              "       b'desire excited acquainted abandoned criticize joke above zero mistakes prediction',\n",
              "       b'taller beaten allowed records face treat growth talented circumstances winked'],\n",
              "      dtype=object)"
            ]
          },
          "metadata": {},
          "execution_count": 66
        }
      ]
    },
    {
      "cell_type": "markdown",
      "source": [
        "# The model"
      ],
      "metadata": {
        "id": "LJjrOhOWpr0M"
      }
    },
    {
      "cell_type": "code",
      "source": [
        "class Translator(tf.keras.Model):\n",
        "    @classmethod\n",
        "    def add_method(cls, fun):\n",
        "        setattr(cls, fun.__name__, fun)\n",
        "        return fun\n",
        "\n",
        "    def __init__(self, units,\n",
        "                 context_text_processor,\n",
        "                 target_text_processor):\n",
        "        super().__init__()\n",
        "        encoder = Encoder(context_text_processor, units)\n",
        "        decoder = Decoder(target_text_processor, units)\n",
        "\n",
        "        self.encoder = encoder\n",
        "        self.decoder = decoder\n",
        "\n",
        "    def call(self, inputs):\n",
        "        context, x = inputs\n",
        "        context = self.encoder(context)\n",
        "        logits = self.decoder(context, x)\n",
        "\n",
        "        try:\n",
        "            del logits._keras_mask\n",
        "        except AttributeError:\n",
        "            pass\n",
        "\n",
        "        return logits"
      ],
      "metadata": {
        "id": "nji32iPtpfPj"
      },
      "execution_count": 67,
      "outputs": []
    },
    {
      "cell_type": "code",
      "source": [
        "model = Translator(UNITS, context_text_processor, target_text_processor)\n",
        "logits = model((ex_context_tok, ex_tar_in))\n",
        "\n",
        "print(f'Context tokens, shape: (batch, s, units) {ex_context_tok.shape}')\n",
        "print(f'Target tokens, shape: (batch, t) {ex_tar_in.shape}')\n",
        "print(f'logits, shape: (batch, t, target_vocabulary_size) {logits.shape}')"
      ],
      "metadata": {
        "colab": {
          "base_uri": "https://localhost:8080/"
        },
        "id": "mcFmZhFjqfHD",
        "outputId": "c84b95e5-6bc7-4b90-e691-cf3d80f77479"
      },
      "execution_count": 69,
      "outputs": [
        {
          "output_type": "stream",
          "name": "stdout",
          "text": [
            "Context tokens, shape: (batch, s, units) (64, 26)\n",
            "Target tokens, shape: (batch, t) (64, 23)\n",
            "logits, shape: (batch, t, target_vocabulary_size) (64, 23, 5000)\n"
          ]
        }
      ]
    },
    {
      "cell_type": "markdown",
      "source": [
        "## Train"
      ],
      "metadata": {
        "id": "yTaisa2FquWE"
      }
    },
    {
      "cell_type": "code",
      "source": [
        "def masked_loss(y_true, y_pred):\n",
        "    loss_fn = tf.keras.losses.SparseCategoricalCrossentropy(\n",
        "        from_logits=True, reduction='none'\n",
        "    )\n",
        "    loss = loss_fn(y_true, y_pred)\n",
        "\n",
        "    mask = tf.cast(y_true != 0, loss.dtype)\n",
        "    loss *= mask\n",
        "\n",
        "    return tf.reduce_sum(loss)/tf.reduce_sum(mask)"
      ],
      "metadata": {
        "id": "E_FXRMJtqkRi"
      },
      "execution_count": 70,
      "outputs": []
    },
    {
      "cell_type": "code",
      "source": [
        "def masked_acc(y_true, y_pred):\n",
        "    y_pred = tf.argmax(y_pred, axis=-1)\n",
        "    y_pred = tf.cast(y_pred, y_true.dtype)\n",
        "\n",
        "    match = tf.cast(y_true == y_pred, tf.float32)\n",
        "    mask = tf.cast(y_true != 0, tf.float32)\n",
        "\n",
        "    return tf.reduce_sum(match)/tf.reduce_sum(mask)"
      ],
      "metadata": {
        "id": "M0bGID8nrKqc"
      },
      "execution_count": 71,
      "outputs": []
    },
    {
      "cell_type": "code",
      "source": [
        "model.compile(optimizer='adam',\n",
        "              loss=masked_loss,\n",
        "              metrics=[masked_acc, masked_loss])"
      ],
      "metadata": {
        "id": "HGdeyq-wrjn6"
      },
      "execution_count": 72,
      "outputs": []
    },
    {
      "cell_type": "code",
      "source": [
        "vocab_size = 1.0 * target_text_processor.vocabulary_size()\n",
        "\n",
        "{\"expected_loss\": tf.math.log(vocab_size).numpy(),\n",
        " \"expected_acc\": 1/vocab_size}"
      ],
      "metadata": {
        "colab": {
          "base_uri": "https://localhost:8080/"
        },
        "id": "tINM5lmjrtyo",
        "outputId": "b1861ab8-97df-4a50-dfb0-aa44d07105d5"
      },
      "execution_count": 73,
      "outputs": [
        {
          "output_type": "execute_result",
          "data": {
            "text/plain": [
              "{'expected_loss': 8.517193, 'expected_acc': 0.0002}"
            ]
          },
          "metadata": {},
          "execution_count": 73
        }
      ]
    },
    {
      "cell_type": "code",
      "source": [
        "model.evaluate(val_ds, steps=20, return_dict=True)"
      ],
      "metadata": {
        "colab": {
          "base_uri": "https://localhost:8080/"
        },
        "id": "MrW-jbANr5FY",
        "outputId": "381815a1-2ac4-406e-a9a0-633bb11c041d"
      },
      "execution_count": 74,
      "outputs": [
        {
          "output_type": "stream",
          "name": "stdout",
          "text": [
            "20/20 [==============================] - 33s 515ms/step - loss: 8.5184 - masked_acc: 9.3633e-05 - masked_loss: 8.5184\n"
          ]
        },
        {
          "output_type": "execute_result",
          "data": {
            "text/plain": [
              "{'loss': 8.518407821655273,\n",
              " 'masked_acc': 9.36329597607255e-05,\n",
              " 'masked_loss': 8.518407821655273}"
            ]
          },
          "metadata": {},
          "execution_count": 74
        }
      ]
    },
    {
      "cell_type": "code",
      "source": [
        "history = model.fit(\n",
        "    train_ds.repeat(),\n",
        "    epochs=100,\n",
        "    steps_per_epoch = 100,\n",
        "    validation_data=val_ds,\n",
        "    validation_steps=20,\n",
        "    callbacks=[tf.keras.callbacks.EarlyStopping(patience=3)]\n",
        ")"
      ],
      "metadata": {
        "colab": {
          "base_uri": "https://localhost:8080/"
        },
        "id": "z6EAxlr0r9Yn",
        "outputId": "49d298e6-5a6d-4307-a4d6-92c8cf63415b"
      },
      "execution_count": 76,
      "outputs": [
        {
          "output_type": "stream",
          "name": "stdout",
          "text": [
            "Epoch 1/100\n",
            "100/100 [==============================] - 131s 1s/step - loss: 5.0245 - masked_acc: 0.2634 - masked_loss: 5.0245 - val_loss: 4.0909 - val_masked_acc: 0.3554 - val_masked_loss: 4.0909\n",
            "Epoch 2/100\n",
            "100/100 [==============================] - 79s 789ms/step - loss: 3.6906 - masked_acc: 0.4043 - masked_loss: 3.6906 - val_loss: 3.3246 - val_masked_acc: 0.4518 - val_masked_loss: 3.3246\n",
            "Epoch 3/100\n",
            "100/100 [==============================] - 79s 788ms/step - loss: 3.1284 - masked_acc: 0.4794 - masked_loss: 3.1284 - val_loss: 2.8565 - val_masked_acc: 0.5164 - val_masked_loss: 2.8565\n",
            "Epoch 4/100\n",
            "100/100 [==============================] - 77s 769ms/step - loss: 2.7041 - masked_acc: 0.5378 - masked_loss: 2.7041 - val_loss: 2.5371 - val_masked_acc: 0.5569 - val_masked_loss: 2.5371\n",
            "Epoch 5/100\n",
            "100/100 [==============================] - 76s 766ms/step - loss: 2.3587 - masked_acc: 0.5905 - masked_loss: 2.3587 - val_loss: 2.2672 - val_masked_acc: 0.5976 - val_masked_loss: 2.2672\n",
            "Epoch 6/100\n",
            "100/100 [==============================] - 84s 835ms/step - loss: 2.1820 - masked_acc: 0.6143 - masked_loss: 2.1820 - val_loss: 2.0861 - val_masked_acc: 0.6274 - val_masked_loss: 2.0861\n",
            "Epoch 7/100\n",
            "100/100 [==============================] - 81s 812ms/step - loss: 2.0167 - masked_acc: 0.6373 - masked_loss: 2.0167 - val_loss: 1.9667 - val_masked_acc: 0.6433 - val_masked_loss: 1.9667\n",
            "Epoch 8/100\n",
            "100/100 [==============================] - 81s 808ms/step - loss: 1.8785 - masked_acc: 0.6585 - masked_loss: 1.8785 - val_loss: 1.7949 - val_masked_acc: 0.6654 - val_masked_loss: 1.7949\n",
            "Epoch 9/100\n",
            "100/100 [==============================] - 78s 785ms/step - loss: 1.7439 - masked_acc: 0.6767 - masked_loss: 1.7439 - val_loss: 1.6764 - val_masked_acc: 0.6813 - val_masked_loss: 1.6764\n",
            "Epoch 10/100\n",
            "100/100 [==============================] - 80s 801ms/step - loss: 1.6577 - masked_acc: 0.6875 - masked_loss: 1.6577 - val_loss: 1.6313 - val_masked_acc: 0.6936 - val_masked_loss: 1.6313\n",
            "Epoch 11/100\n",
            "100/100 [==============================] - 81s 808ms/step - loss: 1.6355 - masked_acc: 0.6912 - masked_loss: 1.6355 - val_loss: 1.5847 - val_masked_acc: 0.6988 - val_masked_loss: 1.5847\n",
            "Epoch 12/100\n",
            "100/100 [==============================] - 76s 760ms/step - loss: 1.5815 - masked_acc: 0.7004 - masked_loss: 1.5815 - val_loss: 1.4875 - val_masked_acc: 0.7081 - val_masked_loss: 1.4875\n",
            "Epoch 13/100\n",
            "100/100 [==============================] - 83s 828ms/step - loss: 1.5020 - masked_acc: 0.7102 - masked_loss: 1.5020 - val_loss: 1.4811 - val_masked_acc: 0.7076 - val_masked_loss: 1.4811\n",
            "Epoch 14/100\n",
            "100/100 [==============================] - 82s 826ms/step - loss: 1.4897 - masked_acc: 0.7115 - masked_loss: 1.4897 - val_loss: 1.4627 - val_masked_acc: 0.7127 - val_masked_loss: 1.4627\n",
            "Epoch 15/100\n",
            "100/100 [==============================] - 80s 803ms/step - loss: 1.3930 - masked_acc: 0.7246 - masked_loss: 1.3941 - val_loss: 1.3828 - val_masked_acc: 0.7216 - val_masked_loss: 1.3828\n",
            "Epoch 16/100\n",
            "100/100 [==============================] - 82s 817ms/step - loss: 1.2014 - masked_acc: 0.7478 - masked_loss: 1.2014 - val_loss: 1.3636 - val_masked_acc: 0.7283 - val_masked_loss: 1.3636\n",
            "Epoch 17/100\n",
            "100/100 [==============================] - 86s 864ms/step - loss: 1.2266 - masked_acc: 0.7435 - masked_loss: 1.2266 - val_loss: 1.3631 - val_masked_acc: 0.7283 - val_masked_loss: 1.3631\n",
            "Epoch 18/100\n",
            "100/100 [==============================] - 79s 794ms/step - loss: 1.2024 - masked_acc: 0.7471 - masked_loss: 1.2024 - val_loss: 1.3756 - val_masked_acc: 0.7259 - val_masked_loss: 1.3756\n",
            "Epoch 19/100\n",
            "100/100 [==============================] - 77s 774ms/step - loss: 1.1994 - masked_acc: 0.7478 - masked_loss: 1.1994 - val_loss: 1.3781 - val_masked_acc: 0.7223 - val_masked_loss: 1.3781\n",
            "Epoch 20/100\n",
            "100/100 [==============================] - 76s 765ms/step - loss: 1.2011 - masked_acc: 0.7473 - masked_loss: 1.2011 - val_loss: 1.2589 - val_masked_acc: 0.7416 - val_masked_loss: 1.2589\n",
            "Epoch 21/100\n",
            "100/100 [==============================] - 83s 821ms/step - loss: 1.1885 - masked_acc: 0.7509 - masked_loss: 1.1885 - val_loss: 1.2823 - val_masked_acc: 0.7398 - val_masked_loss: 1.2823\n",
            "Epoch 22/100\n",
            "100/100 [==============================] - 83s 833ms/step - loss: 1.1788 - masked_acc: 0.7523 - masked_loss: 1.1788 - val_loss: 1.2860 - val_masked_acc: 0.7386 - val_masked_loss: 1.2860\n",
            "Epoch 23/100\n",
            "100/100 [==============================] - 81s 814ms/step - loss: 1.1854 - masked_acc: 0.7513 - masked_loss: 1.1854 - val_loss: 1.2889 - val_masked_acc: 0.7403 - val_masked_loss: 1.2889\n"
          ]
        }
      ]
    },
    {
      "cell_type": "code",
      "source": [
        "plt.plot(history.history['loss'], label='loss')\n",
        "plt.plot(history.history['val_loss'], label='val_loss')\n",
        "plt.ylim([0, max(plt.ylim())])\n",
        "plt.xlabel('Epoch #')\n",
        "plt.ylabel('CE/token')\n",
        "plt.legend()"
      ],
      "metadata": {
        "colab": {
          "base_uri": "https://localhost:8080/",
          "height": 466
        },
        "id": "r74Ywl01sRw9",
        "outputId": "facf153c-19ce-437f-b0c7-d3a3e992b3aa"
      },
      "execution_count": 77,
      "outputs": [
        {
          "output_type": "execute_result",
          "data": {
            "text/plain": [
              "<matplotlib.legend.Legend at 0x7a739a7db250>"
            ]
          },
          "metadata": {},
          "execution_count": 77
        },
        {
          "output_type": "display_data",
          "data": {
            "text/plain": [
              "<Figure size 640x480 with 1 Axes>"
            ],
            "image/png": "[encoded data removed]"
          },
          "metadata": {}
        }
      ]
    },
    {
      "cell_type": "code",
      "source": [
        "plt.plot(history.history['masked_acc'], label='accuracy')\n",
        "plt.plot(history.history['val_masked_acc'], label='val_accuracy')\n",
        "plt.ylim([0, max(plt.ylim())])\n",
        "plt.xlabel('Epoch #')\n",
        "plt.ylabel('CE/token')\n",
        "plt.legend()"
      ],
      "metadata": {
        "colab": {
          "base_uri": "https://localhost:8080/",
          "height": 466
        },
        "id": "UmW3lQktsZCq",
        "outputId": "504d2f47-7fc9-4483-dba3-ec148a7ce76b"
      },
      "execution_count": 78,
      "outputs": [
        {
          "output_type": "execute_result",
          "data": {
            "text/plain": [
              "<matplotlib.legend.Legend at 0x7a73948675e0>"
            ]
          },
          "metadata": {},
          "execution_count": 78
        },
        {
          "output_type": "display_data",
          "data": {
            "text/plain": [
              "<Figure size 640x480 with 1 Axes>"
            ],
            "image/png": "[encoded data removed]"
          },
          "metadata": {}
        }
      ]
    },
    {
      "cell_type": "markdown",
      "source": [
        "## Translate"
      ],
      "metadata": {
        "id": "4Ffd5ZTcsZub"
      }
    },
    {
      "cell_type": "code",
      "source": [
        "#@title\n",
        "@Translator.add_method\n",
        "def translate(self,\n",
        "              texts, *,\n",
        "              max_length=50,\n",
        "              temperature=0.0):\n",
        "  # Process the input texts\n",
        "  context = self.encoder.convert_input(texts)\n",
        "  batch_size = tf.shape(texts)[0]\n",
        "\n",
        "  # Setup the loop inputs\n",
        "  tokens = []\n",
        "  attention_weights = []\n",
        "  next_token, done, state = self.decoder.get_initial_state(context)\n",
        "\n",
        "  for _ in range(max_length):\n",
        "    # Generate the next token\n",
        "    next_token, done, state = self.decoder.get_next_token(\n",
        "        context, next_token, done,  state, temperature)\n",
        "\n",
        "    # Collect the generated tokens\n",
        "    tokens.append(next_token)\n",
        "    attention_weights.append(self.decoder.last_attention_weights)\n",
        "\n",
        "    if tf.executing_eagerly() and tf.reduce_all(done):\n",
        "      break\n",
        "\n",
        "  # Stack the lists of tokens and attention weights.\n",
        "  tokens = tf.concat(tokens, axis=-1)   # t*[(batch 1)] -> (batch, t)\n",
        "  self.last_attention_weights = tf.concat(attention_weights, axis=1)  # t*[(batch 1 s)] -> (batch, t s)\n",
        "\n",
        "  result = self.decoder.tokens_to_text(tokens)\n",
        "  return result"
      ],
      "metadata": {
        "id": "g290I5WlscTx"
      },
      "execution_count": 79,
      "outputs": []
    },
    {
      "cell_type": "code",
      "source": [
        "result = model.translate(['¿Donde esta la biblioteca?'])\n",
        "result[0].numpy().decode()"
      ],
      "metadata": {
        "colab": {
          "base_uri": "https://localhost:8080/",
          "height": 35
        },
        "id": "IXMSbLs3shUK",
        "outputId": "ed7fe304-ae39-448f-9d62-6255a413054f"
      },
      "execution_count": 90,
      "outputs": [
        {
          "output_type": "execute_result",
          "data": {
            "text/plain": [
              "'where is the library ? '"
            ],
            "application/vnd.google.colaboratory.intrinsic+json": {
              "type": "string"
            }
          },
          "metadata": {},
          "execution_count": 90
        }
      ]
    }
  ]
}