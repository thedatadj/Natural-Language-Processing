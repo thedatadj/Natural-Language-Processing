{
  "nbformat": 4,
  "nbformat_minor": 0,
  "metadata": {
    "colab": {
      "provenance": [],
      "authorship_tag": "ABX9TyN0jHO0eWC7KXgovYYC8d97",
      "include_colab_link": true
    },
    "kernelspec": {
      "name": "python3",
      "display_name": "Python 3"
    },
    "language_info": {
      "name": "python"
    }
  },
  "cells": [
    {
      "cell_type": "markdown",
      "metadata": {
        "id": "view-in-github",
        "colab_type": "text"
      },
      "source": [
        "<a href=\"https://colab.research.google.com/github/thedatadj/natural-language-processing/blob/main/autocorrect.ipynb\" target=\"_parent\"><img src=\"https://colab.research.google.com/assets/colab-badge.svg\" alt=\"Open In Colab\"/></a>"
      ]
    },
    {
      "cell_type": "markdown",
      "source": [
        "In this project I created a function called `topsugg` which takes as an argument a misspelled word and a number `n` of number of suggestions, and outputs the `n` most likely suggestions for that misspelled word."
      ],
      "metadata": {
        "id": "j2n1_Z2iSCYt"
      }
    },
    {
      "cell_type": "markdown",
      "source": [
        "# Dataset\n",
        "Load and preprocess the dataset.\n"
      ],
      "metadata": {
        "id": "RNI6hOsVn9YE"
      }
    },
    {
      "cell_type": "code",
      "source": [
        "# Download file\n",
        "!gdown 14r2LAGtFdedAw4oFsDn9XJ1QBtYb8Ifg\n",
        "\n",
        "# Load file\n",
        "file0 = open(\"/content/shakespeare.txt\", \"r\")\n",
        "\n",
        "# Read file\n",
        "file1 = file0.read()\n",
        "\n",
        "# Make all content lowercase\n",
        "file2 = file1.lower()\n",
        "\n",
        "# Tokenize file\n",
        "import re\n",
        "words = re.findall(r\"\\w+\", file2)\n",
        "\n",
        "# Get vocabulary\n",
        "vocab = set(words)"
      ],
      "metadata": {
        "colab": {
          "base_uri": "https://localhost:8080/"
        },
        "id": "LobmjjTrpSnK",
        "outputId": "9e5d18e9-1568-4e6b-c70d-883e2732fdae"
      },
      "execution_count": 100,
      "outputs": [
        {
          "output_type": "stream",
          "name": "stdout",
          "text": [
            "Downloading...\n",
            "From: https://drive.google.com/uc?id=14r2LAGtFdedAw4oFsDn9XJ1QBtYb8Ifg\n",
            "To: /content/shakespeare.txt\n",
            "\r  0% 0.00/307k [00:00<?, ?B/s]\r100% 307k/307k [00:00<00:00, 118MB/s]\n"
          ]
        }
      ]
    },
    {
      "cell_type": "markdown",
      "source": [
        "Get a frequency dictionary of the words."
      ],
      "metadata": {
        "id": "SojW2HmbvH_S"
      }
    },
    {
      "cell_type": "code",
      "source": [
        "freq = {}\n",
        "for word in words:\n",
        "    if word not in freq:\n",
        "        freq[word] = 0\n",
        "    freq[word] += 1"
      ],
      "metadata": {
        "id": "K97JEUb5u75N"
      },
      "execution_count": 101,
      "outputs": []
    },
    {
      "cell_type": "markdown",
      "source": [
        "# Word probability\n",
        "Get the probability of each word in `freq`."
      ],
      "metadata": {
        "id": "--n_6vP8vtWJ"
      }
    },
    {
      "cell_type": "code",
      "source": [
        "prob = {}\n",
        "totalwords = len(words)\n",
        "for word in words:\n",
        "    prob[word] = freq[word]/totalwords"
      ],
      "metadata": {
        "id": "E8YQ6VRdv1D6"
      },
      "execution_count": 102,
      "outputs": []
    },
    {
      "cell_type": "markdown",
      "source": [
        "# Edit operations\n",
        "Create a function for each edit operation (delete, swith, replace, insert) that returns all possibilities for a word.\n"
      ],
      "metadata": {
        "id": "Sf82Lmolwu8P"
      }
    },
    {
      "cell_type": "markdown",
      "source": [
        "## Delete\n",
        "Function which domain are all words from the vocabulary and the range are all possible strings after performing the operation delete."
      ],
      "metadata": {
        "id": "HxK4otpCxVjx"
      }
    },
    {
      "cell_type": "code",
      "source": [
        "def odelete(word):\n",
        "    splits = [(word[:i], word[i:]) for i in range(len(word)+1)]\n",
        "    deletes = [L + R[1:] for L, R in splits if R]\n",
        "    return deletes"
      ],
      "metadata": {
        "id": "ezcIw88vwxUh"
      },
      "execution_count": 103,
      "outputs": []
    },
    {
      "cell_type": "code",
      "source": [
        "odelete('cans')"
      ],
      "metadata": {
        "colab": {
          "base_uri": "https://localhost:8080/"
        },
        "id": "J7577VyXzSNE",
        "outputId": "cd785a0b-25c0-4c56-8a15-2748e32257ed"
      },
      "execution_count": 104,
      "outputs": [
        {
          "output_type": "execute_result",
          "data": {
            "text/plain": [
              "['ans', 'cns', 'cas', 'can']"
            ]
          },
          "metadata": {},
          "execution_count": 104
        }
      ]
    },
    {
      "cell_type": "markdown",
      "source": [
        "## Switch\n",
        "Function that takes in a word, and returns a list containing all possible strings generated after applying a switch between each consecutive letters."
      ],
      "metadata": {
        "id": "QCsKbCME0y56"
      }
    },
    {
      "cell_type": "code",
      "source": [
        "def oswap(word):\n",
        "    swaps = []\n",
        "    for i in range(len(word)-1):\n",
        "        left = word[i:i + 1]\n",
        "        right = word[i+1:i+2]\n",
        "        sub0 = word[:i]\n",
        "        sub1 = word[i+2:]\n",
        "        newword = sub0 + right + left + sub1\n",
        "        swaps.append(newword)\n",
        "    return swaps"
      ],
      "metadata": {
        "id": "KAsZ1hMI1Bqp"
      },
      "execution_count": 105,
      "outputs": []
    },
    {
      "cell_type": "code",
      "source": [
        "oswap('nice')"
      ],
      "metadata": {
        "colab": {
          "base_uri": "https://localhost:8080/"
        },
        "id": "LX1RmJOL5X5y",
        "outputId": "cf0601b8-b008-4a8e-bb45-8287460158e6"
      },
      "execution_count": 106,
      "outputs": [
        {
          "output_type": "execute_result",
          "data": {
            "text/plain": [
              "['ince', 'ncie', 'niec']"
            ]
          },
          "metadata": {},
          "execution_count": 106
        }
      ]
    },
    {
      "cell_type": "markdown",
      "source": [
        "## Replace\n",
        "Function that takes in a word and returns all possible strings generated after applying the replace operation."
      ],
      "metadata": {
        "id": "ur0QSwHs5FPF"
      }
    },
    {
      "cell_type": "code",
      "source": [
        "def oreplace(word):\n",
        "    letters = 'abcdefghijklmnopqrstuvwxyz'\n",
        "    replace = set()\n",
        "    for i, c in enumerate(word):\n",
        "        for l in letters:\n",
        "            sub0 = word[:i]\n",
        "            sub1 = word[i + 1:]\n",
        "            newword = sub0 + l + sub1\n",
        "            replace.add(newword)\n",
        "\n",
        "    replace = sorted(list(replace))\n",
        "    if word in replace:\n",
        "        replace.remove(word)\n",
        "    return replace"
      ],
      "metadata": {
        "id": "I3QhuQj-56c_"
      },
      "execution_count": 107,
      "outputs": []
    },
    {
      "cell_type": "code",
      "source": [
        "print(f\"Number of outputs of oreplace('at') is {len(oreplace('at'))}\")"
      ],
      "metadata": {
        "colab": {
          "base_uri": "https://localhost:8080/"
        },
        "id": "4LeI4MIf7Y22",
        "outputId": "104e6fb5-bc8f-4304-de88-e08d4258fca1"
      },
      "execution_count": 108,
      "outputs": [
        {
          "output_type": "stream",
          "name": "stdout",
          "text": [
            "Number of outputs of oreplace('at') is 50\n"
          ]
        }
      ]
    },
    {
      "cell_type": "markdown",
      "source": [
        "## Insert\n",
        "Function that takes in a word and outputs a list of all possible strings after applying the insert operation."
      ],
      "metadata": {
        "id": "xCs9GrZx4gsB"
      }
    },
    {
      "cell_type": "code",
      "source": [
        "def oinsert(word):\n",
        "    letters = 'abcdefghijklmnopqrstuvwxyz'\n",
        "    inserts = []\n",
        "    for i in range(len(word)+1):\n",
        "        for l in letters:\n",
        "            sub0 = word[:i]\n",
        "            sub1 = word[i:]\n",
        "            newword = sub0 + l + sub1\n",
        "            inserts.append(newword)\n",
        "    return inserts"
      ],
      "metadata": {
        "id": "gi4dKx3e4sEw"
      },
      "execution_count": 109,
      "outputs": []
    },
    {
      "cell_type": "code",
      "source": [
        "len(oinsert('at'))"
      ],
      "metadata": {
        "colab": {
          "base_uri": "https://localhost:8080/"
        },
        "id": "76O8opw65MYC",
        "outputId": "1ded96dc-edcd-49b4-ed89-210c31dcac7e"
      },
      "execution_count": 110,
      "outputs": [
        {
          "output_type": "execute_result",
          "data": {
            "text/plain": [
              "78"
            ]
          },
          "metadata": {},
          "execution_count": 110
        }
      ]
    },
    {
      "cell_type": "markdown",
      "source": [
        "# Edit distance 1\n",
        "Function which input is a string and outputs all the possible single edits on that string."
      ],
      "metadata": {
        "id": "TwsgI0pW6g2g"
      }
    },
    {
      "cell_type": "code",
      "source": [
        "def edit1(word, switch=True):\n",
        "    result = odelete(word) + oinsert(word) + oreplace(word)\n",
        "    if switch:\n",
        "        result = result + oswap(word)\n",
        "    return set(result)"
      ],
      "metadata": {
        "id": "w6iN_V1V55Mq"
      },
      "execution_count": 111,
      "outputs": []
    },
    {
      "cell_type": "code",
      "source": [
        "len(edit1('at'))"
      ],
      "metadata": {
        "colab": {
          "base_uri": "https://localhost:8080/"
        },
        "id": "9h1zgrQY7b0e",
        "outputId": "5f359f14-a6f4-407e-a378-af5670307600"
      },
      "execution_count": 112,
      "outputs": [
        {
          "output_type": "execute_result",
          "data": {
            "text/plain": [
              "129"
            ]
          },
          "metadata": {},
          "execution_count": 112
        }
      ]
    },
    {
      "cell_type": "markdown",
      "source": [
        "# Edit distance 2\n",
        "Function that returns all possible transformations of a string after applying 2 edit operations."
      ],
      "metadata": {
        "id": "W7CL3lbb-QZB"
      }
    },
    {
      "cell_type": "code",
      "source": [
        "def edit2(word, switch=True):\n",
        "    firstedit = edit1(word)\n",
        "    secondedit = set()\n",
        "    for firststrings in firstedit:\n",
        "        for secondstrings in edit1(firststrings):\n",
        "            secondedit.add(secondstrings)\n",
        "    return set(secondedit)"
      ],
      "metadata": {
        "id": "x_54iS037_x8"
      },
      "execution_count": 113,
      "outputs": []
    },
    {
      "cell_type": "code",
      "source": [
        "len(edit2('a'))"
      ],
      "metadata": {
        "colab": {
          "base_uri": "https://localhost:8080/"
        },
        "id": "_a6RpkVz_ChO",
        "outputId": "e2270126-3e05-4e25-af9e-fa6ff66cf409"
      },
      "execution_count": 114,
      "outputs": [
        {
          "output_type": "execute_result",
          "data": {
            "text/plain": [
              "2654"
            ]
          },
          "metadata": {},
          "execution_count": 114
        }
      ]
    },
    {
      "cell_type": "markdown",
      "source": [
        "# Suggestions\n",
        "Get the most probable word given a misspelled word."
      ],
      "metadata": {
        "id": "eUBBw372BOPL"
      }
    },
    {
      "cell_type": "code",
      "source": [
        "word = 'nise' # Meant nice\n",
        "\n",
        "def topsugg(word, n=2):\n",
        "    # Suggestions\n",
        "    suggestions = []\n",
        "\n",
        "    if word in vocab:\n",
        "        suggestions.append(word)\n",
        "    elif edit1(word).intersection(vocab):\n",
        "        for string in edit1(word).intersection(vocab):\n",
        "            suggestions.append(string)\n",
        "    elif edit2(word).intersection(vocab):\n",
        "        for string in edit2(word).intersection(vocab):\n",
        "            suggestions.append(string)\n",
        "    else:\n",
        "        suggestions.append(word)\n",
        "\n",
        "    topdic = {}\n",
        "    for string in suggestions:\n",
        "        if string in vocab:\n",
        "            topdic[string] = prob[string]\n",
        "        else:\n",
        "            topdic[string] = 0\n",
        "\n",
        "    bestword = list(topdic.keys())[0]\n",
        "    for string in topdic:\n",
        "        if topdic[bestword] < topdic[string]:\n",
        "            bestword = string\n",
        "\n",
        "    # Top n words\n",
        "    import numpy as np\n",
        "    dictest = topdic\n",
        "    values = list(dictest.values())\n",
        "    valuesa = np.array(values)\n",
        "    valuesi = np.argsort(valuesa)\n",
        "    keys = np.array(list(dictest.keys()))\n",
        "    n_best = list(zip(keys[valuesi[-n:]], valuesa[valuesi[-n:]]))\n",
        "    return n_best"
      ],
      "metadata": {
        "id": "QvlIvikPCjS4"
      },
      "execution_count": 181,
      "outputs": []
    },
    {
      "cell_type": "markdown",
      "source": [
        "# Demostration\n",
        "Given a misspelled word, the function `topsugg` will output the `n` most likely suggested words."
      ],
      "metadata": {
        "id": "gQliSQCBR0h9"
      }
    },
    {
      "cell_type": "code",
      "source": [
        "topsugg(\"dys\", 1)"
      ],
      "metadata": {
        "colab": {
          "base_uri": "https://localhost:8080/"
        },
        "id": "P3De6PVvPGDy",
        "outputId": "2416ebda-1bd5-49ed-bf77-1e3c2416cdeb"
      },
      "execution_count": 183,
      "outputs": [
        {
          "output_type": "execute_result",
          "data": {
            "text/plain": [
              "[('days', 0.0004103405826836274)]"
            ]
          },
          "metadata": {},
          "execution_count": 183
        }
      ]
    },
    {
      "cell_type": "markdown",
      "source": [
        "<table>\n",
        "    <tr>\n",
        "        <td>\n",
        "            Based on:\n",
        "        </td>\n",
        "        <td>\n",
        "            Assignment from the Natural Language Processing Specialization in Coursera.\n",
        "        </td>\n",
        "    </tr>\n",
        "</table>"
      ],
      "metadata": {
        "id": "2eQWVbLVSaL8"
      }
    }
  ]
}