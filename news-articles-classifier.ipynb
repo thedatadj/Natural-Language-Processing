{
  "nbformat": 4,
  "nbformat_minor": 0,
  "metadata": {
    "colab": {
      "provenance": [],
      "authorship_tag": "ABX9TyMXxNjQ8OvhAI08LNx5amYI",
      "include_colab_link": true
    },
    "kernelspec": {
      "name": "python3",
      "display_name": "Python 3"
    },
    "language_info": {
      "name": "python"
    }
  },
  "cells": [
    {
      "cell_type": "markdown",
      "metadata": {
        "id": "view-in-github",
        "colab_type": "text"
      },
      "source": [
        "<a href=\"https://colab.research.google.com/github/thedatadj/natural-language-processing/blob/main/News-articles-Classifier.ipynb\" target=\"_parent\"><img src=\"https://colab.research.google.com/assets/colab-badge.svg\" alt=\"Open In Colab\"/></a>"
      ]
    },
    {
      "cell_type": "markdown",
      "source": [
        "In this project I create a model capable of classifying news articles by topic.\n",
        "\n",
        "I'll use [this](https://www.kaggle.com/c/learn-ai-bbc/overview) public dataset from the BBC containing 2,225 articles, each labeled under one of 5 categories: business, entertainment, politics, sport or tech."
      ],
      "metadata": {
        "id": "a0RxGh3ES5Ia"
      }
    },
    {
      "cell_type": "code",
      "execution_count": null,
      "metadata": {
        "id": "ARy2r2kuS2Nx"
      },
      "outputs": [],
      "source": [
        "# Deep Neural Networks\n",
        "import tensorflow as tf\n",
        "from tensorflow.keras.preprocessing.text import Tokenizer\n",
        "from tensorflow.keras.preprocessing.sequence import pad_sequences\n",
        "\n",
        "# Numerical analysis\n",
        "import numpy as np\n",
        "\n",
        "# Visualization\n",
        "import matplotlib.pyplot as plt\n",
        "\n",
        "# Read csv files\n",
        "import csv"
      ]
    },
    {
      "cell_type": "code",
      "source": [
        "# Download dataset\n",
        "!gdown 12U7WyvJypu573BflZC2-9qqqES0xQ51i"
      ],
      "metadata": {
        "colab": {
          "base_uri": "https://localhost:8080/"
        },
        "id": "4RtixfAMTyX8",
        "outputId": "a7a5ffdf-0fe5-4202-bcac-f861ec761288"
      },
      "execution_count": null,
      "outputs": [
        {
          "output_type": "stream",
          "name": "stdout",
          "text": [
            "Downloading...\n",
            "From: https://drive.google.com/uc?id=12U7WyvJypu573BflZC2-9qqqES0xQ51i\n",
            "To: /content/bbc-text.csv\n",
            "100% 5.06M/5.06M [00:00<00:00, 32.1MB/s]\n"
          ]
        }
      ]
    },
    {
      "cell_type": "code",
      "source": [
        "# Load the data\n",
        "path = \"/content/bbc-text.csv\"\n",
        "sentences = []\n",
        "labels = []\n",
        "\n",
        "with open(path, \"r\") as file:\n",
        "    reader = csv.reader(file, delimiter=',')\n",
        "    # Avoid header\n",
        "    next(reader)\n",
        "\n",
        "    # Store sentences and labels\n",
        "    for row in reader:\n",
        "        labels.append(row[0])\n",
        "        sentences.append(row[1])"
      ],
      "metadata": {
        "id": "15h5eVV8UaOJ"
      },
      "execution_count": null,
      "outputs": []
    },
    {
      "cell_type": "code",
      "source": [
        "# First training example\n",
        "print(\"First 100 characters of first article: \")\n",
        "print(sentences[0][:100])\n",
        "print(\"\\nLabel of the this article:\")\n",
        "print(labels[0])"
      ],
      "metadata": {
        "colab": {
          "base_uri": "https://localhost:8080/"
        },
        "id": "bhfvZMACVs14",
        "outputId": "2861ffe0-5e2d-4694-e975-7d04bcc7b812"
      },
      "execution_count": null,
      "outputs": [
        {
          "output_type": "stream",
          "name": "stdout",
          "text": [
            "First 100 characters of first article: \n",
            "tv future in the hands of viewers with home theatre systems  plasma high-definition tvs  and digital\n",
            "\n",
            "Label of the this article:\n",
            "tech\n"
          ]
        }
      ]
    },
    {
      "cell_type": "markdown",
      "source": [
        "# Preprocessing\n",
        "I eliminate stopwords from the sentences dataset."
      ],
      "metadata": {
        "id": "8TPt8SoqWNie"
      }
    },
    {
      "cell_type": "code",
      "source": [
        "# List of stopwords\n",
        "stopwords = [\"a\", \"about\", \"above\", \"after\", \"again\", \"against\", \"all\", \"am\", \"an\", \"and\", \"any\", \"are\", \"as\", \"at\", \"be\", \"because\", \"been\", \"before\", \"being\", \"below\", \"between\", \"both\", \"but\", \"by\", \"could\", \"did\", \"do\", \"does\", \"doing\", \"down\", \"during\", \"each\", \"few\", \"for\", \"from\", \"further\", \"had\", \"has\", \"have\", \"having\", \"he\", \"he'd\", \"he'll\", \"he's\", \"her\", \"here\", \"here's\", \"hers\", \"herself\", \"him\", \"himself\", \"his\", \"how\", \"how's\", \"i\", \"i'd\", \"i'll\", \"i'm\", \"i've\", \"if\", \"in\", \"into\", \"is\", \"it\", \"it's\", \"its\", \"itself\", \"let's\", \"me\", \"more\", \"most\", \"my\", \"myself\", \"nor\", \"of\", \"on\", \"once\", \"only\", \"or\", \"other\", \"ought\", \"our\", \"ours\", \"ourselves\", \"out\", \"over\", \"own\", \"same\", \"she\", \"she'd\", \"she'll\", \"she's\", \"should\", \"so\", \"some\", \"such\", \"than\", \"that\", \"that's\", \"the\", \"their\", \"theirs\", \"them\", \"themselves\", \"then\", \"there\", \"there's\", \"these\", \"they\", \"they'd\", \"they'll\", \"they're\", \"they've\", \"this\", \"those\", \"through\", \"to\", \"too\", \"under\", \"until\", \"up\", \"very\", \"was\", \"we\", \"we'd\", \"we'll\", \"we're\", \"we've\", \"were\", \"what\", \"what's\", \"when\", \"when's\", \"where\", \"where's\", \"which\", \"while\", \"who\", \"who's\", \"whom\", \"why\", \"why's\", \"with\", \"would\", \"you\", \"you'd\", \"you'll\", \"you're\", \"you've\", \"your\", \"yours\", \"yourself\", \"yourselves\" ]"
      ],
      "metadata": {
        "id": "70piNbG9VteO"
      },
      "execution_count": 15,
      "outputs": []
    },
    {
      "cell_type": "code",
      "source": [
        "sentences_clean = []\n",
        "# Loop through each sentence\n",
        "for sentence in sentences:\n",
        "    # Normalize it to lower case\n",
        "    sentence = sentence.lower()\n",
        "\n",
        "    # List of words\n",
        "    words = sentence.split()\n",
        "\n",
        "    # Store non-stopwords in sentence\n",
        "    clean_words = []\n",
        "\n",
        "    # Loop through each word in the sentence\n",
        "    for word in words:\n",
        "        if word not in stopwords:\n",
        "            # Store non-stopwords\n",
        "            clean_words.append(word)\n",
        "\n",
        "    # Join non-stopwords into a sentence\n",
        "    sentence = \" \".join(clean_words)\n",
        "\n",
        "    # Store clean sentences\n",
        "    sentences_clean.append(sentence)"
      ],
      "metadata": {
        "id": "Fl0YIXeAhx1d"
      },
      "execution_count": 16,
      "outputs": []
    },
    {
      "cell_type": "code",
      "source": [
        "# Compare sentence with stopwords and without\n",
        "print(\"Without stopwords: \", sentences_clean[0][:100])\n",
        "print(\"With stopwords:    \",sentences[0][:100])"
      ],
      "metadata": {
        "colab": {
          "base_uri": "https://localhost:8080/"
        },
        "id": "hQ1Le3x-ib-V",
        "outputId": "b1813b6c-4f17-4501-e345-a9317f357958"
      },
      "execution_count": 21,
      "outputs": [
        {
          "output_type": "stream",
          "name": "stdout",
          "text": [
            "Without stopwords:  tv future hands viewers home theatre systems plasma high-definition tvs digital video recorders movi\n",
            "With stopwords:     tv future in the hands of viewers with home theatre systems  plasma high-definition tvs  and digital\n"
          ]
        }
      ]
    },
    {
      "cell_type": "code",
      "source": [
        "# Rename sentences dataset\n",
        "sentences = sentences_clean"
      ],
      "metadata": {
        "id": "l31EzMyvidgo"
      },
      "execution_count": 22,
      "outputs": []
    },
    {
      "cell_type": "markdown",
      "source": [
        "# Data Split\n",
        "I split the data into training and validation sets."
      ],
      "metadata": {
        "id": "nKJKfHg5jGYw"
      }
    },
    {
      "cell_type": "code",
      "source": [
        "# Index of point at 80 percentile\n",
        "train_split = int(len(sentences)*0.8)\n",
        "\n",
        "# Training split\n",
        "X_train = sentences[:train_split]\n",
        "y_train = labels[:train_split]\n",
        "\n",
        "# Validation split\n",
        "X_valid = sentences[train_split:]\n",
        "y_valid = labels[train_split:]"
      ],
      "metadata": {
        "id": "5SNpJiFYjET3"
      },
      "execution_count": 24,
      "outputs": []
    },
    {
      "cell_type": "markdown",
      "source": [
        "# Tokenization"
      ],
      "metadata": {
        "id": "XhfZYpFZkNeu"
      }
    },
    {
      "cell_type": "code",
      "source": [
        "# Tokenizer instance\n",
        "tokenizer = Tokenizer(num_words=1000, oov_token=\"<OOV>\")\n",
        "\n",
        "tokenizer.fit_on_texts(X_train)"
      ],
      "metadata": {
        "id": "Et1z1zDbkI09"
      },
      "execution_count": 25,
      "outputs": []
    },
    {
      "cell_type": "markdown",
      "source": [
        "I pad the sequences."
      ],
      "metadata": {
        "id": "e7wJJYsclAT7"
      }
    },
    {
      "cell_type": "code",
      "source": [
        "# Train padded sequences\n",
        "X_train_seq = tokenizer.texts_to_sequences(X_train)\n",
        "X_train_pad = pad_sequences(X_train_seq, maxlen=120, padding='post')\n",
        "\n",
        "# Validation padded sequences\n",
        "X_valid_seq = tokenizer.texts_to_sequences(X_valid)\n",
        "X_valid_pad = pad_sequences(X_valid_seq, maxlen=120, padding='post')"
      ],
      "metadata": {
        "id": "7ajVMpFjk92A"
      },
      "execution_count": 27,
      "outputs": []
    },
    {
      "cell_type": "markdown",
      "source": [
        "Tokenize the labels"
      ],
      "metadata": {
        "id": "n1vZQfTIly-p"
      }
    },
    {
      "cell_type": "code",
      "source": [
        "label_tokenizer = Tokenizer()\n",
        "label_tokenizer.fit_on_texts(y_train)\n",
        "\n",
        "# Convert labels to sequence\n",
        "y_train_seq = label_tokenizer.texts_to_sequences(y_train)\n",
        "y_valid_seq = label_tokenizer.texts_to_sequences(y_valid)\n",
        "\n",
        "# Convert to numpy array\n",
        "y_train_seq = np.array(y_train_seq) - 1\n",
        "y_valid_seq = np.array(y_valid_seq) - 1"
      ],
      "metadata": {
        "id": "hRsj7fJKlvdQ"
      },
      "execution_count": 29,
      "outputs": []
    },
    {
      "cell_type": "markdown",
      "source": [
        "# Modeling"
      ],
      "metadata": {
        "id": "dTAcD8iSmntO"
      }
    },
    {
      "cell_type": "code",
      "source": [
        "model = tf.keras.Sequential([\n",
        "    tf.keras.layers.Embedding(10000, 16, input_length=120),\n",
        "    tf.keras.layers.GlobalAveragePooling1D(),\n",
        "    tf.keras.layers.Dense(64, activation='relu'),\n",
        "    tf.keras.layers.Dense(5, activation='softmax')\n",
        "])"
      ],
      "metadata": {
        "id": "WSemfYg3mZ8-"
      },
      "execution_count": 44,
      "outputs": []
    },
    {
      "cell_type": "code",
      "source": [
        "model.compile(optimizer='adam',\n",
        "              loss='sparse_categorical_crossentropy',\n",
        "              metrics=['accuracy'])"
      ],
      "metadata": {
        "id": "knY1_eDZnmzv"
      },
      "execution_count": 45,
      "outputs": []
    },
    {
      "cell_type": "code",
      "source": [
        "history = model.fit(X_train_pad, y_train_seq, epochs=10,\n",
        "                    validation_data=(X_valid_pad, y_valid_seq))"
      ],
      "metadata": {
        "colab": {
          "base_uri": "https://localhost:8080/"
        },
        "id": "m51nQorOn1Ic",
        "outputId": "6c1d7de8-1999-4274-b7e7-09fb71419bdf"
      },
      "execution_count": 46,
      "outputs": [
        {
          "output_type": "stream",
          "name": "stdout",
          "text": [
            "Epoch 1/10\n",
            "56/56 [==============================] - 1s 9ms/step - loss: 1.5983 - accuracy: 0.3213 - val_loss: 1.5811 - val_accuracy: 0.4337\n",
            "Epoch 2/10\n",
            "56/56 [==============================] - 0s 5ms/step - loss: 1.5420 - accuracy: 0.4348 - val_loss: 1.4837 - val_accuracy: 0.4517\n",
            "Epoch 3/10\n",
            "56/56 [==============================] - 0s 6ms/step - loss: 1.3700 - accuracy: 0.5124 - val_loss: 1.2529 - val_accuracy: 0.5933\n",
            "Epoch 4/10\n",
            "56/56 [==============================] - 0s 6ms/step - loss: 1.0947 - accuracy: 0.7247 - val_loss: 0.9838 - val_accuracy: 0.8000\n",
            "Epoch 5/10\n",
            "56/56 [==============================] - 0s 5ms/step - loss: 0.8158 - accuracy: 0.8764 - val_loss: 0.7389 - val_accuracy: 0.8809\n",
            "Epoch 6/10\n",
            "56/56 [==============================] - 0s 5ms/step - loss: 0.5724 - accuracy: 0.9219 - val_loss: 0.5407 - val_accuracy: 0.8899\n",
            "Epoch 7/10\n",
            "56/56 [==============================] - 0s 6ms/step - loss: 0.4022 - accuracy: 0.9371 - val_loss: 0.4189 - val_accuracy: 0.9146\n",
            "Epoch 8/10\n",
            "56/56 [==============================] - 0s 5ms/step - loss: 0.2990 - accuracy: 0.9478 - val_loss: 0.3465 - val_accuracy: 0.9169\n",
            "Epoch 9/10\n",
            "56/56 [==============================] - 0s 6ms/step - loss: 0.2326 - accuracy: 0.9596 - val_loss: 0.3020 - val_accuracy: 0.9191\n",
            "Epoch 10/10\n",
            "56/56 [==============================] - 0s 6ms/step - loss: 0.1888 - accuracy: 0.9618 - val_loss: 0.2735 - val_accuracy: 0.9281\n"
          ]
        }
      ]
    },
    {
      "cell_type": "code",
      "source": [],
      "metadata": {
        "id": "owtk9aIeoJok"
      },
      "execution_count": null,
      "outputs": []
    }
  ]
}
