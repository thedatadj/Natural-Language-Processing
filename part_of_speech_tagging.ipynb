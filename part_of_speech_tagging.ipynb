{
  "cells": [
    {
      "cell_type": "markdown",
      "metadata": {
        "id": "view-in-github",
        "colab_type": "text"
      },
      "source": [
        "<a href=\"https://colab.research.google.com/github/thedatadj/natural-language-processing/blob/main/part_of_speech_tagging.ipynb\" target=\"_parent\"><img src=\"https://colab.research.google.com/assets/colab-badge.svg\" alt=\"Open In Colab\"/></a>"
      ]
    },
    {
      "cell_type": "markdown",
      "metadata": {
        "id": "Zza0tThpDM2J"
      },
      "source": [
        "Model that predicts the part of speech tags of words."
      ]
    },
    {
      "cell_type": "markdown",
      "metadata": {
        "id": "FSoj6j7K5q9_"
      },
      "source": [
        "# Dataset\n",
        "Consist of lists which items are strings containing words and their POS tags.\n",
        "\n",
        "* Load training data\n",
        "    * Load the vocabulary\n",
        "    * Create a `{word: index}` dictionary\n",
        "* Load test data\n",
        "    * List of words in test data\n"
      ]
    },
    {
      "cell_type": "markdown",
      "metadata": {
        "id": "FuAXcc_K53vV"
      },
      "source": [
        "## Load training data"
      ]
    },
    {
      "cell_type": "code",
      "execution_count": 122,
      "metadata": {
        "colab": {
          "base_uri": "https://localhost:8080/"
        },
        "id": "Mebn3oEP3Tu5",
        "outputId": "3f16156d-8a87-4191-cb3d-090ac713d171"
      },
      "outputs": [
        {
          "output_type": "stream",
          "name": "stdout",
          "text": [
            "Downloading...\n",
            "From: https://drive.google.com/uc?id=18yqFMkgBIjKOiDZ43s9JXfClO3YNZotf\n",
            "To: /content/WSJ_02-21.pos\n",
            "\r  0% 0.00/8.28M [00:00<?, ?B/s]\r100% 8.28M/8.28M [00:00<00:00, 185MB/s]\n"
          ]
        }
      ],
      "source": [
        "# Download file\n",
        "!gdown 18yqFMkgBIjKOiDZ43s9JXfClO3YNZotf"
      ]
    },
    {
      "cell_type": "code",
      "execution_count": 123,
      "metadata": {
        "id": "E5LvfXwj57BE"
      },
      "outputs": [],
      "source": [
        "# Load training corpus\n",
        "with open(\"/content/WSJ_02-21.pos\", \"r\") as file0:\n",
        "    training_data = file0.readlines()"
      ]
    },
    {
      "cell_type": "code",
      "execution_count": 124,
      "metadata": {
        "colab": {
          "base_uri": "https://localhost:8080/"
        },
        "id": "Vo5HqY6L6M9S",
        "outputId": "94112d4c-e93d-4f00-b8b7-92ea12c662d9"
      },
      "outputs": [
        {
          "output_type": "stream",
          "name": "stdout",
          "text": [
            "['In\\tIN\\n']\n"
          ]
        }
      ],
      "source": [
        "# First item of the list\n",
        "print(training_data[:1])"
      ]
    },
    {
      "cell_type": "markdown",
      "metadata": {
        "id": "3FiLesuW6kgC"
      },
      "source": [
        "### Load vocabulary"
      ]
    },
    {
      "cell_type": "code",
      "execution_count": 125,
      "metadata": {
        "colab": {
          "base_uri": "https://localhost:8080/"
        },
        "id": "3pzizxfq6hIj",
        "outputId": "0ee3b297-5272-46cc-f78c-5218bbb85ec9"
      },
      "outputs": [
        {
          "output_type": "stream",
          "name": "stdout",
          "text": [
            "Downloading...\n",
            "From: https://drive.google.com/uc?id=1FtzoPTuRqF6DIgvWSRIJZLnlp959uiAr\n",
            "To: /content/hmm_vocab.txt\n",
            "\r  0% 0.00/197k [00:00<?, ?B/s]\r100% 197k/197k [00:00<00:00, 85.0MB/s]\n"
          ]
        }
      ],
      "source": [
        "# Download file\n",
        "!gdown 1FtzoPTuRqF6DIgvWSRIJZLnlp959uiAr"
      ]
    },
    {
      "cell_type": "code",
      "execution_count": 126,
      "metadata": {
        "id": "45xlPXE16rzZ"
      },
      "outputs": [],
      "source": [
        "# Load test corpus\n",
        "with open(\"/content/hmm_vocab.txt\", 'r') as file1:\n",
        "    vocab = file1.read().split('\\n')"
      ]
    },
    {
      "cell_type": "code",
      "execution_count": 127,
      "metadata": {
        "colab": {
          "base_uri": "https://localhost:8080/",
          "height": 36
        },
        "id": "oIsT-ul269jg",
        "outputId": "db8f5aa8-5ebc-4711-9072-bc7f15ccc9eb"
      },
      "outputs": [
        {
          "output_type": "execute_result",
          "data": {
            "text/plain": [
              "\"'ve\""
            ],
            "application/vnd.google.colaboratory.intrinsic+json": {
              "type": "string"
            }
          },
          "metadata": {},
          "execution_count": 127
        }
      ],
      "source": [
        "# An item in vocab\n",
        "vocab[23]"
      ]
    },
    {
      "cell_type": "markdown",
      "metadata": {
        "id": "GcLOwBzA7fwH"
      },
      "source": [
        "### `{word: index}` dictionary"
      ]
    },
    {
      "cell_type": "code",
      "execution_count": 128,
      "metadata": {
        "id": "IzivOdDD7JbG"
      },
      "outputs": [],
      "source": [
        "# {word: index} dictionary\n",
        "wid = {}\n",
        "for i, word in enumerate(sorted(vocab)):\n",
        "    wid[word] = i"
      ]
    },
    {
      "cell_type": "code",
      "execution_count": 129,
      "metadata": {
        "colab": {
          "base_uri": "https://localhost:8080/"
        },
        "id": "DjuY5OO_73fk",
        "outputId": "89768d8c-d657-4a92-d16b-15cdbcadbf60"
      },
      "outputs": [
        {
          "output_type": "execute_result",
          "data": {
            "text/plain": [
              "22320"
            ]
          },
          "metadata": {},
          "execution_count": 129
        }
      ],
      "source": [
        "# Index of a word in wid\n",
        "wid['the']"
      ]
    },
    {
      "cell_type": "markdown",
      "metadata": {
        "id": "mJ4qSBk38KHQ"
      },
      "source": [
        "## Test data"
      ]
    },
    {
      "cell_type": "code",
      "execution_count": 130,
      "metadata": {
        "colab": {
          "base_uri": "https://localhost:8080/"
        },
        "id": "TZW2icWR79_d",
        "outputId": "f142af68-b7a0-474b-eeb6-bf3ba460a4e8"
      },
      "outputs": [
        {
          "output_type": "stream",
          "name": "stdout",
          "text": [
            "Downloading...\n",
            "From: https://drive.google.com/uc?id=1f-tIhCz9A6Kj9kqrpnhNbma4qPrJDnZL\n",
            "To: /content/WSJ_24.pos\n",
            "\r  0% 0.00/286k [00:00<?, ?B/s]\r100% 286k/286k [00:00<00:00, 113MB/s]\n"
          ]
        }
      ],
      "source": [
        "# Download file\n",
        "!gdown 1f-tIhCz9A6Kj9kqrpnhNbma4qPrJDnZL"
      ]
    },
    {
      "cell_type": "code",
      "execution_count": 155,
      "metadata": {
        "id": "W3lsRH4Z8QI3"
      },
      "outputs": [],
      "source": [
        "# Load file\n",
        "with open('/content/WSJ_24.pos', 'r') as file2:\n",
        "    testdata = file2.readlines()"
      ]
    },
    {
      "cell_type": "code",
      "execution_count": 156,
      "metadata": {
        "colab": {
          "base_uri": "https://localhost:8080/",
          "height": 36
        },
        "id": "Wq5i9Qeg8Zec",
        "outputId": "6c5a847c-8d8a-4429-cf5a-bacf32afc57a"
      },
      "outputs": [
        {
          "output_type": "execute_result",
          "data": {
            "text/plain": [
              "'by\\tIN\\n'"
            ],
            "application/vnd.google.colaboratory.intrinsic+json": {
              "type": "string"
            }
          },
          "metadata": {},
          "execution_count": 156
        }
      ],
      "source": [
        "# An item in test_data\n",
        "testdata[65]"
      ]
    },
    {
      "cell_type": "markdown",
      "metadata": {
        "id": "6CXVY4TT89fu"
      },
      "source": [
        "### Words list\n",
        "List of words from `test_data`."
      ]
    },
    {
      "cell_type": "code",
      "execution_count": 133,
      "metadata": {
        "colab": {
          "base_uri": "https://localhost:8080/"
        },
        "id": "yD3Sl9m88gGU",
        "outputId": "53474543-af75-4f27-c813-d9a0f836b6f3"
      },
      "outputs": [
        {
          "output_type": "stream",
          "name": "stdout",
          "text": [
            "Downloading...\n",
            "From: https://drive.google.com/uc?id=1fes2W5p9zRVvJxpr9IE7MsIUd459N5BE\n",
            "To: /content/utils_pos.py\n",
            "\r  0% 0.00/8.09k [00:00<?, ?B/s]\r100% 8.09k/8.09k [00:00<00:00, 20.2MB/s]\n"
          ]
        }
      ],
      "source": [
        "# Download and import preprocess function\n",
        "!gdown 1fes2W5p9zRVvJxpr9IE7MsIUd459N5BE\n",
        "from utils_pos import preprocess"
      ]
    },
    {
      "cell_type": "code",
      "execution_count": 134,
      "metadata": {
        "colab": {
          "base_uri": "https://localhost:8080/"
        },
        "id": "AyrwR8UM-m-s",
        "outputId": "626b1938-b0f5-49ed-91e8-1792b9cc3e90"
      },
      "outputs": [
        {
          "output_type": "stream",
          "name": "stdout",
          "text": [
            "Downloading...\n",
            "From: https://drive.google.com/uc?id=1jBel8t5KpXi0tXXFoB6rD9cf6NCcDu5X\n",
            "To: /content/test.words\n",
            "\r  0% 0.00/180k [00:00<?, ?B/s]\r100% 180k/180k [00:00<00:00, 101MB/s]\n"
          ]
        }
      ],
      "source": [
        "# Download file\n",
        "!gdown 1jBel8t5KpXi0tXXFoB6rD9cf6NCcDu5X"
      ]
    },
    {
      "cell_type": "code",
      "execution_count": 157,
      "metadata": {
        "id": "uOIMTLUg-TWy"
      },
      "outputs": [],
      "source": [
        "# Remove tags from the corpus and preprocess the words\n",
        "_, testcorp = preprocess(vocab, \"/content/test.words\")"
      ]
    },
    {
      "cell_type": "code",
      "execution_count": 158,
      "metadata": {
        "colab": {
          "base_uri": "https://localhost:8080/",
          "height": 36
        },
        "id": "d8xYDjUH-yzy",
        "outputId": "eed5833f-1906-4731-a04f-49adaf96e3de"
      },
      "outputs": [
        {
          "output_type": "execute_result",
          "data": {
            "text/plain": [
              "'The'"
            ],
            "application/vnd.google.colaboratory.intrinsic+json": {
              "type": "string"
            }
          },
          "metadata": {},
          "execution_count": 158
        }
      ],
      "source": [
        "# Example of word in testvocab\n",
        "testcorp[0]"
      ]
    },
    {
      "cell_type": "markdown",
      "metadata": {
        "id": "KahRdtwaDDko"
      },
      "source": [
        "# Training"
      ]
    },
    {
      "cell_type": "markdown",
      "metadata": {
        "id": "3xXkh2mrDXix"
      },
      "source": [
        "## Transition counts\n",
        "A dictionary where:\n",
        "* `key`: pairs of tags\n",
        "* `value`: the frequency of the pair in the training corpus"
      ]
    },
    {
      "cell_type": "code",
      "execution_count": 137,
      "metadata": {
        "id": "MSBldvKmDEd_"
      },
      "outputs": [],
      "source": [
        "# Use the defaultdict class\n",
        "from collections import defaultdict"
      ]
    },
    {
      "cell_type": "code",
      "execution_count": 138,
      "metadata": {
        "id": "E1GfPE8wF6rG"
      },
      "outputs": [],
      "source": [
        "# Helper function\n",
        "from utils_pos import get_word_tag"
      ]
    },
    {
      "cell_type": "code",
      "execution_count": 139,
      "metadata": {
        "id": "QUj6DyaxE4Le"
      },
      "outputs": [],
      "source": [
        "# Initialize dictionary\n",
        "tcounts = defaultdict(int)\n",
        "\n",
        "# Initialize the previous tag\n",
        "prev_tag = '<s>'\n",
        "\n",
        "# Loop item in corpus\n",
        "for wordtag in training_data:\n",
        "\n",
        "    # Get word and tag\n",
        "    word, tag = get_word_tag(wordtag, wid)\n",
        "\n",
        "    # Update count\n",
        "    tcounts[(prev_tag, tag)] += 1\n",
        "\n",
        "    # Update prev_tag\n",
        "    prev_tag = tag"
      ]
    },
    {
      "cell_type": "code",
      "execution_count": 140,
      "metadata": {
        "colab": {
          "base_uri": "https://localhost:8080/"
        },
        "id": "RsnsD0QYHIZ6",
        "outputId": "ee1bfff6-f2fc-4abb-cdc9-8e8014fce2ff"
      },
      "outputs": [
        {
          "output_type": "execute_result",
          "data": {
            "text/plain": [
              "32364"
            ]
          },
          "metadata": {},
          "execution_count": 140
        }
      ],
      "source": [
        "tcounts[('IN', 'DT')]"
      ]
    },
    {
      "cell_type": "markdown",
      "metadata": {
        "id": "Zoi-N419HUa1"
      },
      "source": [
        "## Emission counts\n",
        "Dictionary where:\n",
        "* `key`: pairs of tags and words\n",
        "* `value`: frequency of that pair in training set"
      ]
    },
    {
      "cell_type": "code",
      "execution_count": 141,
      "metadata": {
        "id": "o5jGWSUQHSAY"
      },
      "outputs": [],
      "source": [
        "# Initialize dictionary\n",
        "ecounts = defaultdict(int)\n",
        "\n",
        "for wordtag in training_data:\n",
        "    word, tag = get_word_tag(wordtag, wid)\n",
        "    ecounts[(tag, word)] += 1"
      ]
    },
    {
      "cell_type": "code",
      "execution_count": 142,
      "metadata": {
        "colab": {
          "base_uri": "https://localhost:8080/"
        },
        "id": "iDuPGl4XITuh",
        "outputId": "a1dec3f7-6f0d-4cda-9867-04011fea8195"
      },
      "outputs": [
        {
          "output_type": "execute_result",
          "data": {
            "text/plain": [
              "7"
            ]
          },
          "metadata": {},
          "execution_count": 142
        }
      ],
      "source": [
        "ecounts[('NN', 'decrease')]"
      ]
    },
    {
      "cell_type": "markdown",
      "metadata": {
        "id": "KbDAHdK-IpRY"
      },
      "source": [
        "## Tag counts\n",
        "Dictionary where:\n",
        "* `key`: tag\n",
        "* `value`: frequency of the tag"
      ]
    },
    {
      "cell_type": "code",
      "execution_count": 143,
      "metadata": {
        "id": "l79r1NbaImAU"
      },
      "outputs": [],
      "source": [
        "tagcounts = defaultdict(int)\n",
        "for wordtag in training_data:\n",
        "    word, tag = get_word_tag(wordtag, wid)\n",
        "    tagcounts[tag] += 1"
      ]
    },
    {
      "cell_type": "code",
      "execution_count": 144,
      "metadata": {
        "colab": {
          "base_uri": "https://localhost:8080/"
        },
        "id": "PeEiriEaJM_l",
        "outputId": "84d40853-febf-43f7-c5c8-5ecbd497b92d"
      },
      "outputs": [
        {
          "output_type": "execute_result",
          "data": {
            "text/plain": [
              "132935"
            ]
          },
          "metadata": {},
          "execution_count": 144
        }
      ],
      "source": [
        "tagcounts['NN']"
      ]
    },
    {
      "cell_type": "markdown",
      "metadata": {
        "id": "Q5qfKCkIJMke"
      },
      "source": [
        "## States\n",
        "List containing all Part Of Speech Tags."
      ]
    },
    {
      "cell_type": "code",
      "execution_count": 145,
      "metadata": {
        "colab": {
          "base_uri": "https://localhost:8080/"
        },
        "id": "ffqBZdZ_JCjH",
        "outputId": "929f3860-2a0c-42b5-d832-0ec6fa1276df"
      },
      "outputs": [
        {
          "output_type": "execute_result",
          "data": {
            "text/plain": [
              "[',', '--s--', '.', ':', 'CC', 'CD', 'DT', 'EX', 'FW', 'IN']"
            ]
          },
          "metadata": {},
          "execution_count": 145
        }
      ],
      "source": [
        "states = sorted(tagcounts.keys())\n",
        "states[5:15]"
      ]
    },
    {
      "cell_type": "markdown",
      "metadata": {
        "id": "c6zfeJ7MJtvd"
      },
      "source": [
        "# Testing\n",
        "Assign a POS tag to every word in test corpus `testcorp`."
      ]
    },
    {
      "cell_type": "code",
      "source": [
        "prep = testcorp\n",
        "y = testdata"
      ],
      "metadata": {
        "id": "8vUn8oF6iTY1"
      },
      "execution_count": 198,
      "outputs": []
    },
    {
      "cell_type": "code",
      "source": [
        "num_correct = 0\n",
        "\n",
        "total = 0\n",
        "\n",
        "predictions = defaultdict(int)\n",
        "truepair = defaultdict(int)\n",
        "\n",
        "for word, y_tup in zip(prep, y):\n",
        "    y_tup_l = y_tup.split()\n",
        "    if len(y_tup_l) == 2:\n",
        "        true_label = y_tup_l[1]\n",
        "    else:\n",
        "        continue\n",
        "    count_final = 0\n",
        "    pos_final = 0\n",
        "    if word in wid:\n",
        "        for pos in states:\n",
        "            key = (pos, word)\n",
        "            if key in ecounts:\n",
        "                count = ecounts[key]\n",
        "                if count > count_final:\n",
        "                    count_final = count\n",
        "                    pos_final = pos\n",
        "    predictions[word] = pos_final\n",
        "    truepair[y_tup_l[0]] = y_tup_l[1]"
      ],
      "metadata": {
        "id": "Bf1mwpybg8Tj"
      },
      "execution_count": 203,
      "outputs": []
    },
    {
      "cell_type": "code",
      "source": [
        "predictions['the']"
      ],
      "metadata": {
        "colab": {
          "base_uri": "https://localhost:8080/",
          "height": 36
        },
        "id": "MnKA9fa1jimk",
        "outputId": "c30f790f-c1df-4b08-9a62-649691c44d1f"
      },
      "execution_count": 207,
      "outputs": [
        {
          "output_type": "execute_result",
          "data": {
            "text/plain": [
              "'DT'"
            ],
            "application/vnd.google.colaboratory.intrinsic+json": {
              "type": "string"
            }
          },
          "metadata": {},
          "execution_count": 207
        }
      ]
    },
    {
      "cell_type": "code",
      "source": [
        "truepair['the']"
      ],
      "metadata": {
        "colab": {
          "base_uri": "https://localhost:8080/",
          "height": 36
        },
        "id": "IyoJsX4PmYd1",
        "outputId": "acba7daf-b78b-4adc-b451-8904fc7876c4"
      },
      "execution_count": 208,
      "outputs": [
        {
          "output_type": "execute_result",
          "data": {
            "text/plain": [
              "'DT'"
            ],
            "application/vnd.google.colaboratory.intrinsic+json": {
              "type": "string"
            }
          },
          "metadata": {},
          "execution_count": 208
        }
      ]
    },
    {
      "cell_type": "markdown",
      "source": [
        "My model correctly assigned a POS tag to the word \"the\" in the testdata."
      ],
      "metadata": {
        "id": "Y3z0npA8mud9"
      }
    },
    {
      "cell_type": "markdown",
      "source": [
        "# Evalutation\n",
        "Calculate accuracy of the model."
      ],
      "metadata": {
        "id": "ktBYsR2InD-s"
      }
    },
    {
      "cell_type": "code",
      "source": [
        "count = 0\n",
        "total = 0\n",
        "for word in predictions:\n",
        "    pos = predictions[word]\n",
        "    truepos = truepair[word]\n",
        "    if pos == truepos:\n",
        "        count += 1\n",
        "    total += 1\n",
        "accuracy = count/total\n",
        "accuracy"
      ],
      "metadata": {
        "colab": {
          "base_uri": "https://localhost:8080/"
        },
        "id": "jGeCWLjjmz61",
        "outputId": "f720d410-4270-4aeb-eda9-15a1b3f3aed8"
      },
      "execution_count": 209,
      "outputs": [
        {
          "output_type": "execute_result",
          "data": {
            "text/plain": [
              "0.893070835745995"
            ]
          },
          "metadata": {},
          "execution_count": 209
        }
      ]
    },
    {
      "cell_type": "markdown",
      "source": [
        "This model has a 90% accuracy."
      ],
      "metadata": {
        "id": "f0HChbMdndcE"
      }
    },
    {
      "cell_type": "markdown",
      "source": [
        "<table>\n",
        "    <tr>\n",
        "        <td>\n",
        "            Based on\n",
        "        </td>\n",
        "        <td>\n",
        "            Assignment from the Natural Language Processing Specialization in Coursera.\n",
        "        </td>\n",
        "    </tr>\n",
        "</table>"
      ],
      "metadata": {
        "id": "YlvEZBp0nx9C"
      }
    }
  ],
  "metadata": {
    "colab": {
      "provenance": [],
      "authorship_tag": "ABX9TyNAXiMvZxBnvorFyBuBMd9/",
      "include_colab_link": true
    },
    "kernelspec": {
      "display_name": "Python 3",
      "name": "python3"
    },
    "language_info": {
      "name": "python"
    }
  },
  "nbformat": 4,
  "nbformat_minor": 0
}