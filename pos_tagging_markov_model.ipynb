{
  "nbformat": 4,
  "nbformat_minor": 0,
  "metadata": {
    "colab": {
      "provenance": [],
      "authorship_tag": "ABX9TyPtty8ovFPKoCxx/d1p86fV",
      "include_colab_link": true
    },
    "kernelspec": {
      "name": "python3",
      "display_name": "Python 3"
    },
    "language_info": {
      "name": "python"
    }
  },
  "cells": [
    {
      "cell_type": "markdown",
      "metadata": {
        "id": "view-in-github",
        "colab_type": "text"
      },
      "source": [
        "<a href=\"https://colab.research.google.com/github/thedatadj/natural-language-processing/blob/main/pos_tagging_markov_model.ipynb\" target=\"_parent\"><img src=\"https://colab.research.google.com/assets/colab-badge.svg\" alt=\"Open In Colab\"/></a>"
      ]
    },
    {
      "cell_type": "markdown",
      "source": [
        "Use a hidden Markov model for Part-of-Speech tagging."
      ],
      "metadata": {
        "id": "046uojt_K9yZ"
      }
    },
    {
      "cell_type": "markdown",
      "source": [
        "# Datasets"
      ],
      "metadata": {
        "id": "6rcAdHWUMPER"
      }
    },
    {
      "cell_type": "code",
      "source": [
        "# Download file\n",
        "!gdown 18yqFMkgBIjKOiDZ43s9JXfClO3YNZotf\n",
        "# Load training corpus\n",
        "with open(\"/content/WSJ_02-21.pos\", \"r\") as file0:\n",
        "    training_data = file0.readlines()\n",
        "# Download file\n",
        "!gdown 1FtzoPTuRqF6DIgvWSRIJZLnlp959uiAr\n",
        "# Load test corpus\n",
        "with open(\"/content/hmm_vocab.txt\", 'r') as file1:\n",
        "    vocab = file1.read().split('\\n')\n",
        "# {word: index} dictionary\n",
        "wid = {}\n",
        "for i, word in enumerate(sorted(vocab)):\n",
        "    wid[word] = i\n",
        "# Download file\n",
        "!gdown 1f-tIhCz9A6Kj9kqrpnhNbma4qPrJDnZL\n",
        "# Load file\n",
        "with open('/content/WSJ_24.pos', 'r') as file2:\n",
        "    testdata = file2.readlines()\n",
        "# Download and import preprocess function\n",
        "!gdown 1fes2W5p9zRVvJxpr9IE7MsIUd459N5BE\n",
        "from utils_pos import preprocess\n",
        "# Download file\n",
        "!gdown 1jBel8t5KpXi0tXXFoB6rD9cf6NCcDu5X\n",
        "# Remove tags from the corpus and preprocess the words\n",
        "_, testcorp = preprocess(vocab, \"/content/test.words\")"
      ],
      "metadata": {
        "colab": {
          "base_uri": "https://localhost:8080/"
        },
        "id": "WDd7budgMQf4",
        "outputId": "a976e094-47e6-4665-9f22-b50008171ce1"
      },
      "execution_count": 3,
      "outputs": [
        {
          "output_type": "stream",
          "name": "stdout",
          "text": [
            "Downloading...\n",
            "From: https://drive.google.com/uc?id=18yqFMkgBIjKOiDZ43s9JXfClO3YNZotf\n",
            "To: /content/WSJ_02-21.pos\n",
            "100% 8.28M/8.28M [00:00<00:00, 132MB/s]\n",
            "Downloading...\n",
            "From: https://drive.google.com/uc?id=1FtzoPTuRqF6DIgvWSRIJZLnlp959uiAr\n",
            "To: /content/hmm_vocab.txt\n",
            "100% 197k/197k [00:00<00:00, 108MB/s]\n",
            "Downloading...\n",
            "From: https://drive.google.com/uc?id=1f-tIhCz9A6Kj9kqrpnhNbma4qPrJDnZL\n",
            "To: /content/WSJ_24.pos\n",
            "100% 286k/286k [00:00<00:00, 103MB/s]\n",
            "Downloading...\n",
            "From: https://drive.google.com/uc?id=1fes2W5p9zRVvJxpr9IE7MsIUd459N5BE\n",
            "To: /content/utils_pos.py\n",
            "100% 8.09k/8.09k [00:00<00:00, 35.9MB/s]\n",
            "Downloading...\n",
            "From: https://drive.google.com/uc?id=1jBel8t5KpXi0tXXFoB6rD9cf6NCcDu5X\n",
            "To: /content/test.words\n",
            "100% 180k/180k [00:00<00:00, 87.0MB/s]\n"
          ]
        }
      ]
    },
    {
      "cell_type": "markdown",
      "source": [
        "# Helper dictionaries\n",
        "These dictionaries will help in later steps."
      ],
      "metadata": {
        "id": "UgLUrO-8LvCb"
      }
    },
    {
      "cell_type": "code",
      "source": [
        "# Use the defaultdict class\n",
        "from collections import defaultdict"
      ],
      "metadata": {
        "id": "HHYnzdB4MxYy"
      },
      "execution_count": 4,
      "outputs": []
    },
    {
      "cell_type": "code",
      "source": [
        "# Helper function\n",
        "from utils_pos import get_word_tag"
      ],
      "metadata": {
        "id": "1PMZ8VfoMyXa"
      },
      "execution_count": 5,
      "outputs": []
    },
    {
      "cell_type": "code",
      "source": [
        "# Initialize dictionary\n",
        "tcounts = defaultdict(int)\n",
        "ecounts = defaultdict(int)\n",
        "tagcounts = defaultdict(int)\n",
        "\n",
        "# Initialize the previous tag\n",
        "prev_tag = '<s>'\n",
        "\n",
        "# Loop item in corpus\n",
        "for wordtag in training_data:\n",
        "\n",
        "    # Get word and tag\n",
        "    word, tag = get_word_tag(wordtag, wid)\n",
        "\n",
        "    # Update count\n",
        "    tcounts[(prev_tag, tag)] += 1\n",
        "    ecounts[(tag, word)] += 1\n",
        "    tagcounts[tag] += 1\n",
        "\n",
        "    # Update prev_tag\n",
        "    prev_tag = tag\n",
        "\n",
        "# States\n",
        "states = sorted(tagcounts.keys())"
      ],
      "metadata": {
        "id": "k2QtAdjMMMbn"
      },
      "execution_count": 6,
      "outputs": []
    },
    {
      "cell_type": "markdown",
      "source": [
        "# Transition probabilities matrix"
      ],
      "metadata": {
        "id": "D-wYPMi5Lo31"
      }
    },
    {
      "cell_type": "code",
      "source": [
        "import numpy as np"
      ],
      "metadata": {
        "id": "GNew03M5OPh1"
      },
      "execution_count": 7,
      "outputs": []
    },
    {
      "cell_type": "code",
      "execution_count": 8,
      "metadata": {
        "colab": {
          "base_uri": "https://localhost:8080/"
        },
        "id": "cQBJ-l5vKljh",
        "outputId": "db0ab85c-6951-428d-bdaf-ce2ab7401aff"
      },
      "outputs": [
        {
          "output_type": "execute_result",
          "data": {
            "text/plain": [
              "array([[7.03997297e-06, 7.03997297e-06],\n",
              "       [1.35647553e-07, 1.35647553e-07]])"
            ]
          },
          "metadata": {},
          "execution_count": 8
        }
      ],
      "source": [
        "# Values for smoothing\n",
        "alpha = 0.001\n",
        "\n",
        "all_tags = sorted(tagcounts.keys())\n",
        "num_tags = len(all_tags)\n",
        "\n",
        "# Initialize the transition matrix\n",
        "A = np.zeros((num_tags, num_tags))\n",
        "\n",
        "trans_keys = set(tcounts.keys())\n",
        "\n",
        "for i in range(num_tags):\n",
        "    for j in range(num_tags):\n",
        "        count = 0\n",
        "        key = (all_tags[i], all_tags[j])\n",
        "        if key in tcounts:\n",
        "            count = tcounts[key]\n",
        "        count_prev_tag = tagcounts[all_tags[i]]\n",
        "        # Smoothing\n",
        "        A[i,j] = (count + alpha) / (count_prev_tag + alpha * num_tags)\n",
        "\n",
        "A[:2, :2]"
      ]
    },
    {
      "cell_type": "markdown",
      "source": [
        "# Emission probabilities matrix"
      ],
      "metadata": {
        "id": "8XksmCYlTKvE"
      }
    },
    {
      "cell_type": "code",
      "source": [
        "num_words = len(wid)\n",
        "\n",
        "# Initialize matrix\n",
        "B = np.zeros((num_tags, num_words))\n",
        "\n",
        "emis_keys = set(list(ecounts.keys()))\n",
        "\n",
        "vc = list(wid)\n",
        "\n",
        "for i in range(num_tags):\n",
        "    for j in range(num_words):\n",
        "        count = 0\n",
        "        key = (all_tags[i], vc[j])\n",
        "        if key in ecounts:\n",
        "            count = ecounts[key]\n",
        "        count_tag = tagcounts[all_tags[i]]\n",
        "        B[i,j] = (count + alpha) / (count_tag + alpha * num_words)"
      ],
      "metadata": {
        "id": "9M37EbKaTVPs"
      },
      "execution_count": 9,
      "outputs": []
    },
    {
      "cell_type": "code",
      "source": [
        "B[0, 0]"
      ],
      "metadata": {
        "colab": {
          "base_uri": "https://localhost:8080/"
        },
        "id": "WwVuC3wbVtDf",
        "outputId": "529534ae-c307-447d-f8d5-3b55398f5991"
      },
      "execution_count": 10,
      "outputs": [
        {
          "output_type": "execute_result",
          "data": {
            "text/plain": [
              "6.032199882975323e-06"
            ]
          },
          "metadata": {},
          "execution_count": 10
        }
      ]
    },
    {
      "cell_type": "code",
      "source": [
        "B[3,1]"
      ],
      "metadata": {
        "colab": {
          "base_uri": "https://localhost:8080/"
        },
        "id": "EtCJCz4-V3GG",
        "outputId": "029bd0f8-052b-48ed-8057-175520ed6c6b"
      },
      "execution_count": 11,
      "outputs": [
        {
          "output_type": "execute_result",
          "data": {
            "text/plain": [
              "7.195398974080014e-07"
            ]
          },
          "metadata": {},
          "execution_count": 11
        }
      ]
    },
    {
      "cell_type": "markdown",
      "source": [
        "# Viterbi algorithm"
      ],
      "metadata": {
        "id": "1Kh9w54fWhE-"
      }
    },
    {
      "cell_type": "markdown",
      "source": [
        "## Initialization"
      ],
      "metadata": {
        "id": "ch2d2dXKFpsz"
      }
    },
    {
      "cell_type": "code",
      "source": [
        "import math\n",
        "\n",
        "# Initialize matrixes to zero\n",
        "best_probs = np.zeros((num_tags, len(testcorp)))\n",
        "best_paths = np.zeros((num_tags, len(testcorp)), dtype=int)\n",
        "\n",
        "# Index of start token\n",
        "s_idx = states.index(\"--s--\")\n",
        "\n",
        "# Loop tags\n",
        "for i in range(num_tags):\n",
        "    best_probs[i, 0] = math.log(A[s_idx, i] * B[i, wid[testcorp[0]]])"
      ],
      "metadata": {
        "id": "H7mcRYNQJMJO"
      },
      "execution_count": 12,
      "outputs": []
    },
    {
      "cell_type": "code",
      "source": [
        "print(best_probs[0, 0])\n",
        "print(best_probs[2, 3])"
      ],
      "metadata": {
        "colab": {
          "base_uri": "https://localhost:8080/"
        },
        "id": "rVL50weVKgV5",
        "outputId": "07fcbc03-5f09-4c1b-be26-177d6743521c"
      },
      "execution_count": 13,
      "outputs": [
        {
          "output_type": "stream",
          "name": "stdout",
          "text": [
            "-22.60982633354825\n",
            "0.0\n"
          ]
        }
      ]
    },
    {
      "cell_type": "markdown",
      "source": [
        "## Forward pass"
      ],
      "metadata": {
        "id": "fHVgKxCtNCLD"
      }
    },
    {
      "cell_type": "code",
      "source": [
        "# Loop words\n",
        "for i in range(1, len(testcorp)):\n",
        "    # Loop tags\n",
        "    for j in range(num_tags):\n",
        "        best_prob_i = float(\"-inf\")\n",
        "        best_path_i = None\n",
        "        # Loop previous word tags\n",
        "        for k in range(num_tags):\n",
        "            prob = best_probs[k, i-1] + math.log(A[k, j]) + math.log(B[j, wid[testcorp[i]]])\n",
        "            if prob > best_prob_i:\n",
        "                best_prob_i = prob\n",
        "                best_path_i = k\n",
        "        best_probs[j,i] = best_prob_i\n",
        "        best_paths[j,i] = best_path_i"
      ],
      "metadata": {
        "id": "7FnxutcnND_b"
      },
      "execution_count": 77,
      "outputs": []
    },
    {
      "cell_type": "code",
      "source": [
        "print(f\"best_probs[0,1]: {best_probs[0,1]:.4f}\")\n",
        "print(f\"best_probs[0,4]: {best_probs[0,4]:.4f}\")"
      ],
      "metadata": {
        "colab": {
          "base_uri": "https://localhost:8080/"
        },
        "id": "KAP81mHJUSTW",
        "outputId": "5b52dbd3-a1b5-4717-fac9-5f716e38acc9"
      },
      "execution_count": 78,
      "outputs": [
        {
          "output_type": "stream",
          "name": "stdout",
          "text": [
            "best_probs[0,1]: -24.7822\n",
            "best_probs[0,4]: -49.5601\n"
          ]
        }
      ]
    },
    {
      "cell_type": "markdown",
      "source": [
        "## Backward pass"
      ],
      "metadata": {
        "id": "uYoNe2VEXgKZ"
      }
    },
    {
      "cell_type": "code",
      "source": [
        "# Number of columns/words\n",
        "m = best_paths.shape[1]"
      ],
      "metadata": {
        "id": "BXPxFaluXhUH"
      },
      "execution_count": 80,
      "outputs": []
    },
    {
      "cell_type": "code",
      "source": [
        "# Map column index to row index\n",
        "z = [None] * m"
      ],
      "metadata": {
        "id": "OEeWFHXaXvcg"
      },
      "execution_count": 81,
      "outputs": []
    },
    {
      "cell_type": "code",
      "source": [
        "# Tag prediction\n",
        "pred = [None] * m"
      ],
      "metadata": {
        "id": "fcHH46rsZMp8"
      },
      "execution_count": 82,
      "outputs": []
    },
    {
      "cell_type": "code",
      "source": [
        "# Number of rows/tags\n",
        "n = best_paths.shape[0]"
      ],
      "metadata": {
        "id": "K2FWdjLmYbL0"
      },
      "execution_count": 83,
      "outputs": []
    },
    {
      "cell_type": "markdown",
      "source": [
        "Get the best probability for the last column/word."
      ],
      "metadata": {
        "id": "xXafiJEoYzct"
      }
    },
    {
      "cell_type": "code",
      "source": [
        "# Initialize\n",
        "bplw = float(\"-inf\")"
      ],
      "metadata": {
        "id": "mfQKZRLZY19s"
      },
      "execution_count": 84,
      "outputs": []
    },
    {
      "cell_type": "code",
      "source": [
        "for k in range(n):\n",
        "    if bplw < best_probs[k, -1]:\n",
        "        bplw = best_probs[k, -1]\n",
        "        # Save index\n",
        "        z[-1] = k"
      ],
      "metadata": {
        "id": "hO14IzWJZWsE"
      },
      "execution_count": 85,
      "outputs": []
    },
    {
      "cell_type": "markdown",
      "source": [
        "Add tag of last word to predicted sequence of tags."
      ],
      "metadata": {
        "id": "TCnIiP6PaCmN"
      }
    },
    {
      "cell_type": "code",
      "source": [
        "pred[-1] = states[z[-1]]\n",
        "pred[-1]"
      ],
      "metadata": {
        "colab": {
          "base_uri": "https://localhost:8080/",
          "height": 36
        },
        "id": "Ei6h61o4ZxCK",
        "outputId": "384c627d-34eb-41e9-e59d-bd2603ed897f"
      },
      "execution_count": 86,
      "outputs": [
        {
          "output_type": "execute_result",
          "data": {
            "text/plain": [
              "'--s--'"
            ],
            "application/vnd.google.colaboratory.intrinsic+json": {
              "type": "string"
            }
          },
          "metadata": {},
          "execution_count": 86
        }
      ]
    },
    {
      "cell_type": "markdown",
      "source": [
        "Search on D matrix"
      ],
      "metadata": {
        "id": "Pv8udW2sbciA"
      }
    },
    {
      "cell_type": "code",
      "source": [
        "for i in range(m-1, -1, -1):\n",
        "    # Index of ith word\n",
        "    ptfwi = z[i]\n",
        "\n",
        "    # Index of tag of previous word\n",
        "    z[i - 1] = best_paths[z[i], i]\n",
        "\n",
        "    # Save tag of previous word\n",
        "    pred[i - 1] = states[z[i - 1]]"
      ],
      "metadata": {
        "id": "FOrkkIXtbZ8_"
      },
      "execution_count": 87,
      "outputs": []
    },
    {
      "cell_type": "code",
      "source": [
        "print('The prediction for pred[-7:m-1] is: \\n', testcorp[-7:m-1], \"\\n\", pred[-7:m-1], \"\\n\")\n",
        "print('The prediction for pred[0:8] is: \\n', pred[0:7], \"\\n\", testcorp[0:7])"
      ],
      "metadata": {
        "colab": {
          "base_uri": "https://localhost:8080/"
        },
        "id": "jRFm7nKIeWvl",
        "outputId": "1786c689-e6f1-4748-da73-aa2413c86b16"
      },
      "execution_count": 92,
      "outputs": [
        {
          "output_type": "stream",
          "name": "stdout",
          "text": [
            "The prediction for pred[-7:m-1] is: \n",
            " ['see', 'them', 'here', 'with', 'us', '.'] \n",
            " ['VB', 'PRP', 'RB', 'IN', 'PRP', '.'] \n",
            "\n",
            "The prediction for pred[0:8] is: \n",
            " ['DT', 'NN', 'POS', 'NN', 'MD', 'VB', 'VBN'] \n",
            " ['The', 'economy', \"'s\", 'temperature', 'will', 'be', 'taken']\n"
          ]
        }
      ]
    },
    {
      "cell_type": "markdown",
      "source": [
        "# Evalutation\n",
        "Compute accuracy"
      ],
      "metadata": {
        "id": "KKAf86_WfsNQ"
      }
    },
    {
      "cell_type": "code",
      "source": [
        "num_correct = 0\n",
        "total = 0\n",
        "for prediction, y in zip(pred, testdata):\n",
        "    wordtag = y.split()\n",
        "    if len(wordtag) == 2:\n",
        "        word, tag = wordtag[0], wordtag[1]\n",
        "        if prediction == tag:\n",
        "            num_correct += 1\n",
        "        total += 1\n",
        "accuracy = num_correct/total"
      ],
      "metadata": {
        "id": "bkABxE3lfudX"
      },
      "execution_count": 124,
      "outputs": []
    },
    {
      "cell_type": "code",
      "source": [
        "accuracy"
      ],
      "metadata": {
        "colab": {
          "base_uri": "https://localhost:8080/"
        },
        "id": "Ae4ktHgqiPGT",
        "outputId": "6f3de2de-6a21-4e10-bdb6-d4f9e8dc15cc"
      },
      "execution_count": 125,
      "outputs": [
        {
          "output_type": "execute_result",
          "data": {
            "text/plain": [
              "0.953063647155511"
            ]
          },
          "metadata": {},
          "execution_count": 125
        }
      ]
    },
    {
      "cell_type": "markdown",
      "source": [
        "<table>\n",
        "    <tr>\n",
        "        <td>\n",
        "            Based on\n",
        "        </td>\n",
        "        <td>\n",
        "            Assignment from the Natural Language Processing Specialization\n",
        "        </td>\n",
        "    </tr>\n",
        "</table>"
      ],
      "metadata": {
        "id": "xKvSTyhkiYA8"
      }
    }
  ]
}