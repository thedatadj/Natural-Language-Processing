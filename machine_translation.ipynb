{
  "nbformat": 4,
  "nbformat_minor": 0,
  "metadata": {
    "colab": {
      "provenance": [],
      "authorship_tag": "ABX9TyNJFCfUpDfUSxbxWQKihwgv",
      "include_colab_link": true
    },
    "kernelspec": {
      "name": "python3",
      "display_name": "Python 3"
    },
    "language_info": {
      "name": "python"
    }
  },
  "cells": [
    {
      "cell_type": "markdown",
      "metadata": {
        "id": "view-in-github",
        "colab_type": "text"
      },
      "source": [
        "<a href=\"https://colab.research.google.com/github/thedatadj/natural-language-processing/blob/main/machine_translation.ipynb\" target=\"_parent\"><img src=\"https://colab.research.google.com/assets/colab-badge.svg\" alt=\"Open In Colab\"/></a>"
      ]
    },
    {
      "cell_type": "markdown",
      "source": [
        "Program that translates English to French."
      ],
      "metadata": {
        "id": "2CPz7T_pelcY"
      }
    },
    {
      "cell_type": "markdown",
      "source": [
        "# Embeddings\n",
        "Load vector representation for english and french words."
      ],
      "metadata": {
        "id": "c7FzP-hwfMtm"
      }
    },
    {
      "cell_type": "code",
      "execution_count": 28,
      "metadata": {
        "colab": {
          "base_uri": "https://localhost:8080/"
        },
        "id": "j1gSM_t-d1Tg",
        "outputId": "e389f7dc-8dec-4103-d772-dc790fa96fe8"
      },
      "outputs": [
        {
          "output_type": "stream",
          "name": "stdout",
          "text": [
            "Downloading...\n",
            "From: https://drive.google.com/uc?id=16TjH95jhGzqA8f0zSf0uOrAYM_E0aYtT\n",
            "To: /content/en_embeddings.p\n",
            "100% 8.12M/8.12M [00:00<00:00, 106MB/s]\n",
            "Downloading...\n",
            "From: https://drive.google.com/uc?id=1NrhEHDYmgSslUwi292S0x5isy0Av6H9C\n",
            "To: /content/fr_embeddings.p\n",
            "100% 7.36M/7.36M [00:00<00:00, 92.4MB/s]\n"
          ]
        }
      ],
      "source": [
        "# Download files\n",
        "!gdown 16TjH95jhGzqA8f0zSf0uOrAYM_E0aYtT\n",
        "!gdown 1NrhEHDYmgSslUwi292S0x5isy0Av6H9C"
      ]
    },
    {
      "cell_type": "code",
      "source": [
        "import pickle"
      ],
      "metadata": {
        "id": "x_InLpAafS0n"
      },
      "execution_count": 2,
      "outputs": []
    },
    {
      "cell_type": "markdown",
      "source": [
        "Load dictionary containing words and their 300-dimensional vector representation."
      ],
      "metadata": {
        "id": "J0KeIdCFfvXF"
      }
    },
    {
      "cell_type": "code",
      "source": [
        "en_embeddings_subset = pickle.load(open(\"/content/en_embeddings.p\", \"rb\"))\n",
        "fr_embeddings_subset = pickle.load(open(\"/content/fr_embeddings.p\", \"rb\"))"
      ],
      "metadata": {
        "id": "A_0_c0Vlfrb4"
      },
      "execution_count": 3,
      "outputs": []
    },
    {
      "cell_type": "markdown",
      "source": [
        "First 10 components of vector representation of the word \"the\"."
      ],
      "metadata": {
        "id": "D0eyCKZN-Hc4"
      }
    },
    {
      "cell_type": "code",
      "source": [
        "en_embeddings_subset['the'][:10]"
      ],
      "metadata": {
        "colab": {
          "base_uri": "https://localhost:8080/"
        },
        "id": "HXJboA4v98TZ",
        "outputId": "ab142120-8c3b-4200-8238-352224f441ee"
      },
      "execution_count": 32,
      "outputs": [
        {
          "output_type": "execute_result",
          "data": {
            "text/plain": [
              "array([ 0.08007812,  0.10498047,  0.04980469,  0.0534668 , -0.06738281,\n",
              "       -0.12060547,  0.03515625, -0.11865234,  0.04394531,  0.03015137],\n",
              "      dtype=float32)"
            ]
          },
          "metadata": {},
          "execution_count": 32
        }
      ]
    },
    {
      "cell_type": "markdown",
      "source": [
        "# English to French word dictionary\n",
        "Load a dictionary containing the translation of the words from english to french."
      ],
      "metadata": {
        "id": "VVTO8R8JgJM_"
      }
    },
    {
      "cell_type": "code",
      "source": [
        "# Download file\n",
        "!gdown 12-kA2qWDbMGO7yWZnMS6zed0E26QOJD2\n",
        "!gdown 1A8F6fdFTPc9VGMa2omX_6BVxKe6IejVh"
      ],
      "metadata": {
        "colab": {
          "base_uri": "https://localhost:8080/"
        },
        "id": "5dTISh8agPbb",
        "outputId": "6a75fd97-8abf-4fd6-ebbb-42d983eb57fd"
      },
      "execution_count": 33,
      "outputs": [
        {
          "output_type": "stream",
          "name": "stdout",
          "text": [
            "Downloading...\n",
            "From: https://drive.google.com/uc?id=12-kA2qWDbMGO7yWZnMS6zed0E26QOJD2\n",
            "To: /content/en-fr.test.txt\n",
            "100% 50.5k/50.5k [00:00<00:00, 65.5MB/s]\n",
            "Downloading...\n",
            "From: https://drive.google.com/uc?id=1A8F6fdFTPc9VGMa2omX_6BVxKe6IejVh\n",
            "To: /content/en-fr.train.txt\n",
            "100% 179k/179k [00:00<00:00, 97.8MB/s]\n"
          ]
        }
      ]
    },
    {
      "cell_type": "code",
      "source": [
        "import pandas as pd"
      ],
      "metadata": {
        "id": "0e6imSy9hAal"
      },
      "execution_count": 34,
      "outputs": []
    },
    {
      "cell_type": "code",
      "source": [
        "file1 = pd.read_csv(\"/content/en-fr.train.txt\", delimiter=' ')\n",
        "\n",
        "file1.head()"
      ],
      "metadata": {
        "colab": {
          "base_uri": "https://localhost:8080/",
          "height": 206
        },
        "id": "DfZqWHchgxeM",
        "outputId": "6ebc0208-2fe2-4fdd-fa88-6cc63b165921"
      },
      "execution_count": 35,
      "outputs": [
        {
          "output_type": "execute_result",
          "data": {
            "text/plain": [
              "   the     le\n",
              "0  the    les\n",
              "1  the     la\n",
              "2  and     et\n",
              "3  was    fut\n",
              "4  was  etait"
            ],
            "text/html": [
              "\n",
              "  <div id=\"df-99c23e67-d9bc-4d17-b236-828a0cb597ea\" class=\"colab-df-container\">\n",
              "    <div>\n",
              "<style scoped>\n",
              "    .dataframe tbody tr th:only-of-type {\n",
              "        vertical-align: middle;\n",
              "    }\n",
              "\n",
              "    .dataframe tbody tr th {\n",
              "        vertical-align: top;\n",
              "    }\n",
              "\n",
              "    .dataframe thead th {\n",
              "        text-align: right;\n",
              "    }\n",
              "</style>\n",
              "<table border=\"1\" class=\"dataframe\">\n",
              "  <thead>\n",
              "    <tr style=\"text-align: right;\">\n",
              "      <th></th>\n",
              "      <th>the</th>\n",
              "      <th>le</th>\n",
              "    </tr>\n",
              "  </thead>\n",
              "  <tbody>\n",
              "    <tr>\n",
              "      <th>0</th>\n",
              "      <td>the</td>\n",
              "      <td>les</td>\n",
              "    </tr>\n",
              "    <tr>\n",
              "      <th>1</th>\n",
              "      <td>the</td>\n",
              "      <td>la</td>\n",
              "    </tr>\n",
              "    <tr>\n",
              "      <th>2</th>\n",
              "      <td>and</td>\n",
              "      <td>et</td>\n",
              "    </tr>\n",
              "    <tr>\n",
              "      <th>3</th>\n",
              "      <td>was</td>\n",
              "      <td>fut</td>\n",
              "    </tr>\n",
              "    <tr>\n",
              "      <th>4</th>\n",
              "      <td>was</td>\n",
              "      <td>etait</td>\n",
              "    </tr>\n",
              "  </tbody>\n",
              "</table>\n",
              "</div>\n",
              "    <div class=\"colab-df-buttons\">\n",
              "\n",
              "  <div class=\"colab-df-container\">\n",
              "    <button class=\"colab-df-convert\" onclick=\"convertToInteractive('df-99c23e67-d9bc-4d17-b236-828a0cb597ea')\"\n",
              "            title=\"Convert this dataframe to an interactive table.\"\n",
              "            style=\"display:none;\">\n",
              "\n",
              "  <svg xmlns=\"http://www.w3.org/2000/svg\" height=\"24px\" viewBox=\"0 -960 960 960\">\n",
              "    <path d=\"M120-120v-720h720v720H120Zm60-500h600v-160H180v160Zm220 220h160v-160H400v160Zm0 220h160v-160H400v160ZM180-400h160v-160H180v160Zm440 0h160v-160H620v160ZM180-180h160v-160H180v160Zm440 0h160v-160H620v160Z\"/>\n",
              "  </svg>\n",
              "    </button>\n",
              "\n",
              "  <style>\n",
              "    .colab-df-container {\n",
              "      display:flex;\n",
              "      gap: 12px;\n",
              "    }\n",
              "\n",
              "    .colab-df-convert {\n",
              "      background-color: #E8F0FE;\n",
              "      border: none;\n",
              "      border-radius: 50%;\n",
              "      cursor: pointer;\n",
              "      display: none;\n",
              "      fill: #1967D2;\n",
              "      height: 32px;\n",
              "      padding: 0 0 0 0;\n",
              "      width: 32px;\n",
              "    }\n",
              "\n",
              "    .colab-df-convert:hover {\n",
              "      background-color: #E2EBFA;\n",
              "      box-shadow: 0px 1px 2px rgba(60, 64, 67, 0.3), 0px 1px 3px 1px rgba(60, 64, 67, 0.15);\n",
              "      fill: #174EA6;\n",
              "    }\n",
              "\n",
              "    .colab-df-buttons div {\n",
              "      margin-bottom: 4px;\n",
              "    }\n",
              "\n",
              "    [theme=dark] .colab-df-convert {\n",
              "      background-color: #3B4455;\n",
              "      fill: #D2E3FC;\n",
              "    }\n",
              "\n",
              "    [theme=dark] .colab-df-convert:hover {\n",
              "      background-color: #434B5C;\n",
              "      box-shadow: 0px 1px 3px 1px rgba(0, 0, 0, 0.15);\n",
              "      filter: drop-shadow(0px 1px 2px rgba(0, 0, 0, 0.3));\n",
              "      fill: #FFFFFF;\n",
              "    }\n",
              "  </style>\n",
              "\n",
              "    <script>\n",
              "      const buttonEl =\n",
              "        document.querySelector('#df-99c23e67-d9bc-4d17-b236-828a0cb597ea button.colab-df-convert');\n",
              "      buttonEl.style.display =\n",
              "        google.colab.kernel.accessAllowed ? 'block' : 'none';\n",
              "\n",
              "      async function convertToInteractive(key) {\n",
              "        const element = document.querySelector('#df-99c23e67-d9bc-4d17-b236-828a0cb597ea');\n",
              "        const dataTable =\n",
              "          await google.colab.kernel.invokeFunction('convertToInteractive',\n",
              "                                                    [key], {});\n",
              "        if (!dataTable) return;\n",
              "\n",
              "        const docLinkHtml = 'Like what you see? Visit the ' +\n",
              "          '<a target=\"_blank\" href=https://colab.research.google.com/notebooks/data_table.ipynb>data table notebook</a>'\n",
              "          + ' to learn more about interactive tables.';\n",
              "        element.innerHTML = '';\n",
              "        dataTable['output_type'] = 'display_data';\n",
              "        await google.colab.output.renderOutput(dataTable, element);\n",
              "        const docLink = document.createElement('div');\n",
              "        docLink.innerHTML = docLinkHtml;\n",
              "        element.appendChild(docLink);\n",
              "      }\n",
              "    </script>\n",
              "  </div>\n",
              "\n",
              "\n",
              "<div id=\"df-c52b2188-3ed3-4814-bb07-6092e5009c3d\">\n",
              "  <button class=\"colab-df-quickchart\" onclick=\"quickchart('df-c52b2188-3ed3-4814-bb07-6092e5009c3d')\"\n",
              "            title=\"Suggest charts\"\n",
              "            style=\"display:none;\">\n",
              "\n",
              "<svg xmlns=\"http://www.w3.org/2000/svg\" height=\"24px\"viewBox=\"0 0 24 24\"\n",
              "     width=\"24px\">\n",
              "    <g>\n",
              "        <path d=\"M19 3H5c-1.1 0-2 .9-2 2v14c0 1.1.9 2 2 2h14c1.1 0 2-.9 2-2V5c0-1.1-.9-2-2-2zM9 17H7v-7h2v7zm4 0h-2V7h2v10zm4 0h-2v-4h2v4z\"/>\n",
              "    </g>\n",
              "</svg>\n",
              "  </button>\n",
              "\n",
              "<style>\n",
              "  .colab-df-quickchart {\n",
              "      --bg-color: #E8F0FE;\n",
              "      --fill-color: #1967D2;\n",
              "      --hover-bg-color: #E2EBFA;\n",
              "      --hover-fill-color: #174EA6;\n",
              "      --disabled-fill-color: #AAA;\n",
              "      --disabled-bg-color: #DDD;\n",
              "  }\n",
              "\n",
              "  [theme=dark] .colab-df-quickchart {\n",
              "      --bg-color: #3B4455;\n",
              "      --fill-color: #D2E3FC;\n",
              "      --hover-bg-color: #434B5C;\n",
              "      --hover-fill-color: #FFFFFF;\n",
              "      --disabled-bg-color: #3B4455;\n",
              "      --disabled-fill-color: #666;\n",
              "  }\n",
              "\n",
              "  .colab-df-quickchart {\n",
              "    background-color: var(--bg-color);\n",
              "    border: none;\n",
              "    border-radius: 50%;\n",
              "    cursor: pointer;\n",
              "    display: none;\n",
              "    fill: var(--fill-color);\n",
              "    height: 32px;\n",
              "    padding: 0;\n",
              "    width: 32px;\n",
              "  }\n",
              "\n",
              "  .colab-df-quickchart:hover {\n",
              "    background-color: var(--hover-bg-color);\n",
              "    box-shadow: 0 1px 2px rgba(60, 64, 67, 0.3), 0 1px 3px 1px rgba(60, 64, 67, 0.15);\n",
              "    fill: var(--button-hover-fill-color);\n",
              "  }\n",
              "\n",
              "  .colab-df-quickchart-complete:disabled,\n",
              "  .colab-df-quickchart-complete:disabled:hover {\n",
              "    background-color: var(--disabled-bg-color);\n",
              "    fill: var(--disabled-fill-color);\n",
              "    box-shadow: none;\n",
              "  }\n",
              "\n",
              "  .colab-df-spinner {\n",
              "    border: 2px solid var(--fill-color);\n",
              "    border-color: transparent;\n",
              "    border-bottom-color: var(--fill-color);\n",
              "    animation:\n",
              "      spin 1s steps(1) infinite;\n",
              "  }\n",
              "\n",
              "  @keyframes spin {\n",
              "    0% {\n",
              "      border-color: transparent;\n",
              "      border-bottom-color: var(--fill-color);\n",
              "      border-left-color: var(--fill-color);\n",
              "    }\n",
              "    20% {\n",
              "      border-color: transparent;\n",
              "      border-left-color: var(--fill-color);\n",
              "      border-top-color: var(--fill-color);\n",
              "    }\n",
              "    30% {\n",
              "      border-color: transparent;\n",
              "      border-left-color: var(--fill-color);\n",
              "      border-top-color: var(--fill-color);\n",
              "      border-right-color: var(--fill-color);\n",
              "    }\n",
              "    40% {\n",
              "      border-color: transparent;\n",
              "      border-right-color: var(--fill-color);\n",
              "      border-top-color: var(--fill-color);\n",
              "    }\n",
              "    60% {\n",
              "      border-color: transparent;\n",
              "      border-right-color: var(--fill-color);\n",
              "    }\n",
              "    80% {\n",
              "      border-color: transparent;\n",
              "      border-right-color: var(--fill-color);\n",
              "      border-bottom-color: var(--fill-color);\n",
              "    }\n",
              "    90% {\n",
              "      border-color: transparent;\n",
              "      border-bottom-color: var(--fill-color);\n",
              "    }\n",
              "  }\n",
              "</style>\n",
              "\n",
              "  <script>\n",
              "    async function quickchart(key) {\n",
              "      const quickchartButtonEl =\n",
              "        document.querySelector('#' + key + ' button');\n",
              "      quickchartButtonEl.disabled = true;  // To prevent multiple clicks.\n",
              "      quickchartButtonEl.classList.add('colab-df-spinner');\n",
              "      try {\n",
              "        const charts = await google.colab.kernel.invokeFunction(\n",
              "            'suggestCharts', [key], {});\n",
              "      } catch (error) {\n",
              "        console.error('Error during call to suggestCharts:', error);\n",
              "      }\n",
              "      quickchartButtonEl.classList.remove('colab-df-spinner');\n",
              "      quickchartButtonEl.classList.add('colab-df-quickchart-complete');\n",
              "    }\n",
              "    (() => {\n",
              "      let quickchartButtonEl =\n",
              "        document.querySelector('#df-c52b2188-3ed3-4814-bb07-6092e5009c3d button');\n",
              "      quickchartButtonEl.style.display =\n",
              "        google.colab.kernel.accessAllowed ? 'block' : 'none';\n",
              "    })();\n",
              "  </script>\n",
              "</div>\n",
              "\n",
              "    </div>\n",
              "  </div>\n"
            ]
          },
          "metadata": {},
          "execution_count": 35
        }
      ]
    },
    {
      "cell_type": "code",
      "source": [
        "# Dictionary for training\n",
        "enfr_train = {}\n",
        "for i in range(len(file1)):\n",
        "    enword = file1.loc[i][0]\n",
        "    frword = file1.loc[i][1]\n",
        "    enfr_train[enword] = frword"
      ],
      "metadata": {
        "id": "yRQ8COx0haWa"
      },
      "execution_count": 40,
      "outputs": []
    },
    {
      "cell_type": "markdown",
      "source": [
        "French translation of the word \"the\"."
      ],
      "metadata": {
        "id": "egIjUmg6-hfw"
      }
    },
    {
      "cell_type": "code",
      "source": [
        "enfr_train['the']"
      ],
      "metadata": {
        "colab": {
          "base_uri": "https://localhost:8080/",
          "height": 36
        },
        "id": "92Y0uqLO-XGg",
        "outputId": "d4b52c48-c0a9-403c-9340-de775d095e45"
      },
      "execution_count": 42,
      "outputs": [
        {
          "output_type": "execute_result",
          "data": {
            "text/plain": [
              "'la'"
            ],
            "application/vnd.google.colaboratory.intrinsic+json": {
              "type": "string"
            }
          },
          "metadata": {},
          "execution_count": 42
        }
      ]
    },
    {
      "cell_type": "markdown",
      "source": [
        "# Training set\n",
        "Prepare the training data by getting:\n",
        "* A feature matrix `X_train` containing the word embeddings of english words.\n",
        "* A target matrix `Y_train` containing the word embeddings of french words."
      ],
      "metadata": {
        "id": "5mXROOXTmEFB"
      }
    },
    {
      "cell_type": "code",
      "source": [
        "# English and French vocabularies\n",
        "envocab = set(en_embeddings_subset.keys())\n",
        "frvocab = set(fr_embeddings_subset.keys())"
      ],
      "metadata": {
        "id": "wUfWx0NNmFEe"
      },
      "execution_count": 43,
      "outputs": []
    },
    {
      "cell_type": "markdown",
      "source": [
        "French vocabulary that has an english translation."
      ],
      "metadata": {
        "id": "F1PLQXnfm_Z-"
      }
    },
    {
      "cell_type": "code",
      "source": [
        "frvocaben = set(enfr_train.values())"
      ],
      "metadata": {
        "id": "0o7Tp04rm2pv"
      },
      "execution_count": 44,
      "outputs": []
    },
    {
      "cell_type": "code",
      "source": [
        "import numpy as np"
      ],
      "metadata": {
        "id": "YL3B94fqoJ7N"
      },
      "execution_count": 45,
      "outputs": []
    },
    {
      "cell_type": "code",
      "source": [
        "xlist = []\n",
        "ylist = []\n",
        "for enword, frword in enfr_train.items():\n",
        "    if frword in frvocab and enword in envocab:\n",
        "        # Get embeddings\n",
        "        env = en_embeddings_subset[enword]\n",
        "        frv = fr_embeddings_subset[frword]\n",
        "\n",
        "        # Store embeddings in a list\n",
        "        xlist.append(env)\n",
        "        ylist.append(frv)\n",
        "\n",
        "# Create feature and targe matrices\n",
        "X_train = np.array(xlist)\n",
        "Y_train = np.array(ylist)"
      ],
      "metadata": {
        "id": "VporhKQsnRY-"
      },
      "execution_count": 46,
      "outputs": []
    },
    {
      "cell_type": "markdown",
      "source": [
        "# Training algorithm\n",
        "Train a model to predict the french translation of an english word."
      ],
      "metadata": {
        "id": "apxs4KQ_o-tQ"
      }
    },
    {
      "cell_type": "markdown",
      "source": [
        "Loss function\n",
        "\n",
        "$$ L(X, Y, R)=\\frac{1}{m}\\sum_{i=1}^{m} \\sum_{j=1}^{n}\\left( a_{i j} \\right)^{2}$$"
      ],
      "metadata": {
        "id": "DEcDcAX4pd0z"
      }
    },
    {
      "cell_type": "code",
      "source": [
        "def L(X, Y, R):\n",
        "    m = X.shape[0]\n",
        "    a = X.dot(R) - Y\n",
        "    loss = np.sum(np.square(a))/m\n",
        "\n",
        "    return loss"
      ],
      "metadata": {
        "id": "0_GVaApnpbPI"
      },
      "execution_count": 47,
      "outputs": []
    },
    {
      "cell_type": "markdown",
      "source": [
        "Gradient\n",
        "\n",
        "$$\\frac{d}{dR}𝐿(𝑋,𝑌,𝑅) = \\frac{2}{m}X^{T} (X R - Y)$$"
      ],
      "metadata": {
        "id": "9_rb-BOnqcwZ"
      }
    },
    {
      "cell_type": "code",
      "source": [
        "def derivative(X, Y, R):\n",
        "    m = X.shape[0]\n",
        "    a = X.dot(R) - Y\n",
        "    gradient = (2/m)*(X.T).dot(a)\n",
        "\n",
        "    return gradient"
      ],
      "metadata": {
        "id": "Bod0v_KlqZmN"
      },
      "execution_count": 48,
      "outputs": []
    },
    {
      "cell_type": "markdown",
      "source": [
        "Gradient descent\n",
        "$$R = R - \\alpha \\frac{dL}{dR}$$"
      ],
      "metadata": {
        "id": "AGuVFzFG1A3w"
      }
    },
    {
      "cell_type": "code",
      "source": [
        "# Hyperparameters\n",
        "train_steps = 400\n",
        "verbose = True\n",
        "learning_rate = 0.8"
      ],
      "metadata": {
        "id": "dcWZCmkz1yAy"
      },
      "execution_count": 51,
      "outputs": []
    },
    {
      "cell_type": "code",
      "source": [
        "# Initialize R\n",
        "np.random.seed(129)\n",
        "R = np.random.rand(X_train.shape[1], X_train.shape[1])\n",
        "\n",
        "# Training loop\n",
        "for i in range(train_steps):\n",
        "    if verbose and i % 25 == 0:\n",
        "        print(f\"Loos at iteration no. {i} is {L(X_train, Y_train, R):.4f}\")\n",
        "\n",
        "    gradient = derivative(X_train, Y_train, R)\n",
        "\n",
        "    R -= learning_rate*gradient"
      ],
      "metadata": {
        "colab": {
          "base_uri": "https://localhost:8080/"
        },
        "id": "cU92N6yV1C99",
        "outputId": "63aa16b5-411c-4507-cff1-c1a4f83f5ea1"
      },
      "execution_count": 52,
      "outputs": [
        {
          "output_type": "stream",
          "name": "stdout",
          "text": [
            "Loos at iteration no. 0 is 963.0146\n",
            "Loos at iteration no. 25 is 97.8292\n",
            "Loos at iteration no. 50 is 26.8329\n",
            "Loos at iteration no. 75 is 9.7893\n",
            "Loos at iteration no. 100 is 4.3776\n",
            "Loos at iteration no. 125 is 2.3281\n",
            "Loos at iteration no. 150 is 1.4480\n",
            "Loos at iteration no. 175 is 1.0338\n",
            "Loos at iteration no. 200 is 0.8251\n",
            "Loos at iteration no. 225 is 0.7145\n",
            "Loos at iteration no. 250 is 0.6534\n",
            "Loos at iteration no. 275 is 0.6185\n",
            "Loos at iteration no. 300 is 0.5981\n",
            "Loos at iteration no. 325 is 0.5858\n",
            "Loos at iteration no. 350 is 0.5782\n",
            "Loos at iteration no. 375 is 0.5735\n"
          ]
        }
      ]
    },
    {
      "cell_type": "markdown",
      "source": [
        "# Testing\n",
        "Evaluate the accuracy of the model on an unseen dataset."
      ],
      "metadata": {
        "id": "fNpfx_re6QWE"
      }
    },
    {
      "cell_type": "markdown",
      "source": [
        "* To compare similar vectors we'll use cosine similarity.\n",
        "* To find an approximation for the output we will look for the nearest neighbor.\n"
      ],
      "metadata": {
        "id": "aDYxuDTu6ey6"
      }
    },
    {
      "cell_type": "code",
      "source": [
        "def cos(v, u):\n",
        "    dot = v.dot(u)\n",
        "    normv = np.linalg.norm(v)\n",
        "    normu = np.linalg.norm(u)\n",
        "    cos = dot / (normv * normu)\n",
        "    return cos"
      ],
      "metadata": {
        "id": "nUDpGtVpkWlr"
      },
      "execution_count": 54,
      "outputs": []
    },
    {
      "cell_type": "code",
      "source": [
        "def nearest_neighbor(vector, candidates, k=1):\n",
        "    similarityrange = []\n",
        "    for domainvector in candidates:\n",
        "        similarityvalue = cos(vector, domainvector)\n",
        "        similarityrange.append(similarityvalue)\n",
        "    # Get the indices of the top k most similar vectors\n",
        "    sortedindices = np.argsort(similarityrange)\n",
        "    sortedindices = np.flip(sortedindices)\n",
        "    topk = sortedindices[:k]\n",
        "    return topk"
      ],
      "metadata": {
        "id": "tk6FoUui4JJn"
      },
      "execution_count": 53,
      "outputs": []
    },
    {
      "cell_type": "markdown",
      "source": [
        "Determine accurary"
      ],
      "metadata": {
        "id": "59bn9Z507jCr"
      }
    },
    {
      "cell_type": "code",
      "source": [
        "def accuracy(X, Y, R):\n",
        "    pred = X.dot(R)\n",
        "\n",
        "    correct = 0\n",
        "    for i in range(len(pred)):\n",
        "        predindex = nearest_neighbor(pred[i], Y, k=1)\n",
        "\n",
        "        if predindex == i:\n",
        "            correct += 1\n",
        "\n",
        "    accuracy = correct/X.shape[0]\n",
        "    return accuracy"
      ],
      "metadata": {
        "id": "K4BYvV3W7eB6"
      },
      "execution_count": 55,
      "outputs": []
    },
    {
      "cell_type": "markdown",
      "source": [
        "Load validation set"
      ],
      "metadata": {
        "id": "ecAmOejD8TF8"
      }
    },
    {
      "cell_type": "code",
      "source": [
        "file2 = pd.read_csv(\"/content/en-fr.test.txt\", delimiter=\" \")\n",
        "file2.head()"
      ],
      "metadata": {
        "colab": {
          "base_uri": "https://localhost:8080/",
          "height": 206
        },
        "id": "AnHdTejz8K2c",
        "outputId": "54ac3c1c-20f3-4db8-990d-ac039b3cbff3"
      },
      "execution_count": 56,
      "outputs": [
        {
          "output_type": "execute_result",
          "data": {
            "text/plain": [
              "    torpedo    torpille\n",
              "0   torpedo   torpilles\n",
              "1  giovanni    giovanni\n",
              "2      chat    discuter\n",
              "3      chat  discussion\n",
              "4      chat    causerie"
            ],
            "text/html": [
              "\n",
              "  <div id=\"df-62378446-3ece-47bb-9eed-3d897bd17475\" class=\"colab-df-container\">\n",
              "    <div>\n",
              "<style scoped>\n",
              "    .dataframe tbody tr th:only-of-type {\n",
              "        vertical-align: middle;\n",
              "    }\n",
              "\n",
              "    .dataframe tbody tr th {\n",
              "        vertical-align: top;\n",
              "    }\n",
              "\n",
              "    .dataframe thead th {\n",
              "        text-align: right;\n",
              "    }\n",
              "</style>\n",
              "<table border=\"1\" class=\"dataframe\">\n",
              "  <thead>\n",
              "    <tr style=\"text-align: right;\">\n",
              "      <th></th>\n",
              "      <th>torpedo</th>\n",
              "      <th>torpille</th>\n",
              "    </tr>\n",
              "  </thead>\n",
              "  <tbody>\n",
              "    <tr>\n",
              "      <th>0</th>\n",
              "      <td>torpedo</td>\n",
              "      <td>torpilles</td>\n",
              "    </tr>\n",
              "    <tr>\n",
              "      <th>1</th>\n",
              "      <td>giovanni</td>\n",
              "      <td>giovanni</td>\n",
              "    </tr>\n",
              "    <tr>\n",
              "      <th>2</th>\n",
              "      <td>chat</td>\n",
              "      <td>discuter</td>\n",
              "    </tr>\n",
              "    <tr>\n",
              "      <th>3</th>\n",
              "      <td>chat</td>\n",
              "      <td>discussion</td>\n",
              "    </tr>\n",
              "    <tr>\n",
              "      <th>4</th>\n",
              "      <td>chat</td>\n",
              "      <td>causerie</td>\n",
              "    </tr>\n",
              "  </tbody>\n",
              "</table>\n",
              "</div>\n",
              "    <div class=\"colab-df-buttons\">\n",
              "\n",
              "  <div class=\"colab-df-container\">\n",
              "    <button class=\"colab-df-convert\" onclick=\"convertToInteractive('df-62378446-3ece-47bb-9eed-3d897bd17475')\"\n",
              "            title=\"Convert this dataframe to an interactive table.\"\n",
              "            style=\"display:none;\">\n",
              "\n",
              "  <svg xmlns=\"http://www.w3.org/2000/svg\" height=\"24px\" viewBox=\"0 -960 960 960\">\n",
              "    <path d=\"M120-120v-720h720v720H120Zm60-500h600v-160H180v160Zm220 220h160v-160H400v160Zm0 220h160v-160H400v160ZM180-400h160v-160H180v160Zm440 0h160v-160H620v160ZM180-180h160v-160H180v160Zm440 0h160v-160H620v160Z\"/>\n",
              "  </svg>\n",
              "    </button>\n",
              "\n",
              "  <style>\n",
              "    .colab-df-container {\n",
              "      display:flex;\n",
              "      gap: 12px;\n",
              "    }\n",
              "\n",
              "    .colab-df-convert {\n",
              "      background-color: #E8F0FE;\n",
              "      border: none;\n",
              "      border-radius: 50%;\n",
              "      cursor: pointer;\n",
              "      display: none;\n",
              "      fill: #1967D2;\n",
              "      height: 32px;\n",
              "      padding: 0 0 0 0;\n",
              "      width: 32px;\n",
              "    }\n",
              "\n",
              "    .colab-df-convert:hover {\n",
              "      background-color: #E2EBFA;\n",
              "      box-shadow: 0px 1px 2px rgba(60, 64, 67, 0.3), 0px 1px 3px 1px rgba(60, 64, 67, 0.15);\n",
              "      fill: #174EA6;\n",
              "    }\n",
              "\n",
              "    .colab-df-buttons div {\n",
              "      margin-bottom: 4px;\n",
              "    }\n",
              "\n",
              "    [theme=dark] .colab-df-convert {\n",
              "      background-color: #3B4455;\n",
              "      fill: #D2E3FC;\n",
              "    }\n",
              "\n",
              "    [theme=dark] .colab-df-convert:hover {\n",
              "      background-color: #434B5C;\n",
              "      box-shadow: 0px 1px 3px 1px rgba(0, 0, 0, 0.15);\n",
              "      filter: drop-shadow(0px 1px 2px rgba(0, 0, 0, 0.3));\n",
              "      fill: #FFFFFF;\n",
              "    }\n",
              "  </style>\n",
              "\n",
              "    <script>\n",
              "      const buttonEl =\n",
              "        document.querySelector('#df-62378446-3ece-47bb-9eed-3d897bd17475 button.colab-df-convert');\n",
              "      buttonEl.style.display =\n",
              "        google.colab.kernel.accessAllowed ? 'block' : 'none';\n",
              "\n",
              "      async function convertToInteractive(key) {\n",
              "        const element = document.querySelector('#df-62378446-3ece-47bb-9eed-3d897bd17475');\n",
              "        const dataTable =\n",
              "          await google.colab.kernel.invokeFunction('convertToInteractive',\n",
              "                                                    [key], {});\n",
              "        if (!dataTable) return;\n",
              "\n",
              "        const docLinkHtml = 'Like what you see? Visit the ' +\n",
              "          '<a target=\"_blank\" href=https://colab.research.google.com/notebooks/data_table.ipynb>data table notebook</a>'\n",
              "          + ' to learn more about interactive tables.';\n",
              "        element.innerHTML = '';\n",
              "        dataTable['output_type'] = 'display_data';\n",
              "        await google.colab.output.renderOutput(dataTable, element);\n",
              "        const docLink = document.createElement('div');\n",
              "        docLink.innerHTML = docLinkHtml;\n",
              "        element.appendChild(docLink);\n",
              "      }\n",
              "    </script>\n",
              "  </div>\n",
              "\n",
              "\n",
              "<div id=\"df-56fac0cf-5403-4d49-b876-1044eb14ddd3\">\n",
              "  <button class=\"colab-df-quickchart\" onclick=\"quickchart('df-56fac0cf-5403-4d49-b876-1044eb14ddd3')\"\n",
              "            title=\"Suggest charts\"\n",
              "            style=\"display:none;\">\n",
              "\n",
              "<svg xmlns=\"http://www.w3.org/2000/svg\" height=\"24px\"viewBox=\"0 0 24 24\"\n",
              "     width=\"24px\">\n",
              "    <g>\n",
              "        <path d=\"M19 3H5c-1.1 0-2 .9-2 2v14c0 1.1.9 2 2 2h14c1.1 0 2-.9 2-2V5c0-1.1-.9-2-2-2zM9 17H7v-7h2v7zm4 0h-2V7h2v10zm4 0h-2v-4h2v4z\"/>\n",
              "    </g>\n",
              "</svg>\n",
              "  </button>\n",
              "\n",
              "<style>\n",
              "  .colab-df-quickchart {\n",
              "      --bg-color: #E8F0FE;\n",
              "      --fill-color: #1967D2;\n",
              "      --hover-bg-color: #E2EBFA;\n",
              "      --hover-fill-color: #174EA6;\n",
              "      --disabled-fill-color: #AAA;\n",
              "      --disabled-bg-color: #DDD;\n",
              "  }\n",
              "\n",
              "  [theme=dark] .colab-df-quickchart {\n",
              "      --bg-color: #3B4455;\n",
              "      --fill-color: #D2E3FC;\n",
              "      --hover-bg-color: #434B5C;\n",
              "      --hover-fill-color: #FFFFFF;\n",
              "      --disabled-bg-color: #3B4455;\n",
              "      --disabled-fill-color: #666;\n",
              "  }\n",
              "\n",
              "  .colab-df-quickchart {\n",
              "    background-color: var(--bg-color);\n",
              "    border: none;\n",
              "    border-radius: 50%;\n",
              "    cursor: pointer;\n",
              "    display: none;\n",
              "    fill: var(--fill-color);\n",
              "    height: 32px;\n",
              "    padding: 0;\n",
              "    width: 32px;\n",
              "  }\n",
              "\n",
              "  .colab-df-quickchart:hover {\n",
              "    background-color: var(--hover-bg-color);\n",
              "    box-shadow: 0 1px 2px rgba(60, 64, 67, 0.3), 0 1px 3px 1px rgba(60, 64, 67, 0.15);\n",
              "    fill: var(--button-hover-fill-color);\n",
              "  }\n",
              "\n",
              "  .colab-df-quickchart-complete:disabled,\n",
              "  .colab-df-quickchart-complete:disabled:hover {\n",
              "    background-color: var(--disabled-bg-color);\n",
              "    fill: var(--disabled-fill-color);\n",
              "    box-shadow: none;\n",
              "  }\n",
              "\n",
              "  .colab-df-spinner {\n",
              "    border: 2px solid var(--fill-color);\n",
              "    border-color: transparent;\n",
              "    border-bottom-color: var(--fill-color);\n",
              "    animation:\n",
              "      spin 1s steps(1) infinite;\n",
              "  }\n",
              "\n",
              "  @keyframes spin {\n",
              "    0% {\n",
              "      border-color: transparent;\n",
              "      border-bottom-color: var(--fill-color);\n",
              "      border-left-color: var(--fill-color);\n",
              "    }\n",
              "    20% {\n",
              "      border-color: transparent;\n",
              "      border-left-color: var(--fill-color);\n",
              "      border-top-color: var(--fill-color);\n",
              "    }\n",
              "    30% {\n",
              "      border-color: transparent;\n",
              "      border-left-color: var(--fill-color);\n",
              "      border-top-color: var(--fill-color);\n",
              "      border-right-color: var(--fill-color);\n",
              "    }\n",
              "    40% {\n",
              "      border-color: transparent;\n",
              "      border-right-color: var(--fill-color);\n",
              "      border-top-color: var(--fill-color);\n",
              "    }\n",
              "    60% {\n",
              "      border-color: transparent;\n",
              "      border-right-color: var(--fill-color);\n",
              "    }\n",
              "    80% {\n",
              "      border-color: transparent;\n",
              "      border-right-color: var(--fill-color);\n",
              "      border-bottom-color: var(--fill-color);\n",
              "    }\n",
              "    90% {\n",
              "      border-color: transparent;\n",
              "      border-bottom-color: var(--fill-color);\n",
              "    }\n",
              "  }\n",
              "</style>\n",
              "\n",
              "  <script>\n",
              "    async function quickchart(key) {\n",
              "      const quickchartButtonEl =\n",
              "        document.querySelector('#' + key + ' button');\n",
              "      quickchartButtonEl.disabled = true;  // To prevent multiple clicks.\n",
              "      quickchartButtonEl.classList.add('colab-df-spinner');\n",
              "      try {\n",
              "        const charts = await google.colab.kernel.invokeFunction(\n",
              "            'suggestCharts', [key], {});\n",
              "      } catch (error) {\n",
              "        console.error('Error during call to suggestCharts:', error);\n",
              "      }\n",
              "      quickchartButtonEl.classList.remove('colab-df-spinner');\n",
              "      quickchartButtonEl.classList.add('colab-df-quickchart-complete');\n",
              "    }\n",
              "    (() => {\n",
              "      let quickchartButtonEl =\n",
              "        document.querySelector('#df-56fac0cf-5403-4d49-b876-1044eb14ddd3 button');\n",
              "      quickchartButtonEl.style.display =\n",
              "        google.colab.kernel.accessAllowed ? 'block' : 'none';\n",
              "    })();\n",
              "  </script>\n",
              "</div>\n",
              "\n",
              "    </div>\n",
              "  </div>\n"
            ]
          },
          "metadata": {},
          "execution_count": 56
        }
      ]
    },
    {
      "cell_type": "code",
      "source": [
        "# Dictionary for validation\n",
        "enfr_valid = {}\n",
        "for i in range(len(file2)):\n",
        "    enword = file2.loc[i][0]\n",
        "    frword = file2.loc[i][0]\n",
        "    enfr_valid[enword] = frword"
      ],
      "metadata": {
        "id": "ud9CraUs8oP8"
      },
      "execution_count": 57,
      "outputs": []
    },
    {
      "cell_type": "code",
      "source": [
        "xlist = []\n",
        "ylist = []\n",
        "for enword, frword in enfr_train.items():\n",
        "    if frword in frvocab and enword in envocab:\n",
        "        # Get embeddings\n",
        "        env = en_embeddings_subset[enword]\n",
        "        frv = fr_embeddings_subset[frword]\n",
        "\n",
        "        # Store embeddings in a list\n",
        "        xlist.append(env)\n",
        "        ylist.append(frv)\n",
        "\n",
        "# Create feature and targe matrices\n",
        "X_valid = np.array(xlist)\n",
        "Y_valid = np.array(ylist)"
      ],
      "metadata": {
        "id": "gxCs8s6486oE"
      },
      "execution_count": 58,
      "outputs": []
    },
    {
      "cell_type": "code",
      "source": [
        "# Validation accuracy\n",
        "accuracy(X_valid, Y_valid, R)"
      ],
      "metadata": {
        "colab": {
          "base_uri": "https://localhost:8080/"
        },
        "id": "6dHAXpCN9Afq",
        "outputId": "260f35be-3da4-4984-9786-f4f9961231bd"
      },
      "execution_count": 59,
      "outputs": [
        {
          "output_type": "execute_result",
          "data": {
            "text/plain": [
              "0.5523114355231143"
            ]
          },
          "metadata": {},
          "execution_count": 59
        }
      ]
    },
    {
      "cell_type": "markdown",
      "source": [
        "<table>\n",
        "    <tr>\n",
        "        <td>\n",
        "            Based on\n",
        "        </td>\n",
        "        <td>\n",
        "            Assignment from the Natural Language Processing Specialization in coursera.\n",
        "        </td>\n",
        "    </tr>\n",
        "</table>"
      ],
      "metadata": {
        "id": "9fleJuW69WwC"
      }
    }
  ]
}